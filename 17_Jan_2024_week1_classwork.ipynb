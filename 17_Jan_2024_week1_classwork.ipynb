{
 "cells": [
  {
   "cell_type": "markdown",
   "id": "f3db1824-555e-45b0-ad84-06c1342cbc8e",
   "metadata": {},
   "source": [
    "# TEXT BASED ANALYSIS \n",
    "## WEEK - 1 CLASSWORK\n",
    "### Nandi Krishnama Naidu \n",
    "### SHU ID : 0916341"
   ]
  },
  {
   "cell_type": "markdown",
   "id": "e72faf1f-8556-4056-8bad-3adbd3472537",
   "metadata": {},
   "source": [
    "## String"
   ]
  },
  {
   "cell_type": "code",
   "execution_count": 4,
   "id": "fe62f9d5-6180-4318-a36f-d8c5234da413",
   "metadata": {
    "scrolled": true
   },
   "outputs": [
    {
     "name": "stdout",
     "output_type": "stream",
     "text": [
      "hello\n"
     ]
    }
   ],
   "source": [
    "\n",
    "print(\"hello\")"
   ]
  },
  {
   "cell_type": "markdown",
   "id": "de853d4f-fa43-4aa3-925e-549d909a152e",
   "metadata": {},
   "source": [
    "## More string functions:"
   ]
  },
  {
   "cell_type": "code",
   "execution_count": 1,
   "id": "81eaf35d-9068-4d1f-b368-7672cd680b2b",
   "metadata": {},
   "outputs": [
    {
     "name": "stdout",
     "output_type": "stream",
     "text": [
      "12\n",
      "HELLO WORLD!\n",
      "hello world!\n",
      "jello world!\n"
     ]
    }
   ],
   "source": [
    "a=\"hello world!\"\n",
    "print(len(a))\n",
    "\n",
    "print(a.upper())\n",
    "\n",
    "print(a.lower())\n",
    "\n",
    "print(a.replace(\"h\",\"j\"))\n"
   ]
  },
  {
   "cell_type": "markdown",
   "id": "30e781af-b887-4e5c-aee9-87f91a2d52ad",
   "metadata": {},
   "source": [
    "## String Concatennation"
   ]
  },
  {
   "cell_type": "code",
   "execution_count": 7,
   "id": "cc34e3b6-50e6-4d88-bedc-2e81a19c3746",
   "metadata": {},
   "outputs": [
    {
     "name": "stdout",
     "output_type": "stream",
     "text": [
      "hihrllpo\n"
     ]
    }
   ],
   "source": [
    "a=\"hi\"\n",
    "b=\"hrllpo\"\n",
    "c=a+\"\"+b\n",
    "print(c)"
   ]
  },
  {
   "cell_type": "markdown",
   "id": "cbf9d3ef-6fa1-485d-9fa2-97d5ff2a84b2",
   "metadata": {},
   "source": [
    "## Splitting a String"
   ]
  },
  {
   "cell_type": "code",
   "execution_count": 8,
   "id": "4a1e6829-bd1d-400a-9bac-906d9b1f17ff",
   "metadata": {},
   "outputs": [
    {
     "data": {
      "text/plain": [
       "['One', 'two', 'three', 'four']"
      ]
     },
     "execution_count": 8,
     "metadata": {},
     "output_type": "execute_result"
    }
   ],
   "source": [
    ">>> my_string = 'One two three four'\n",
    ">>> word_list = my_string.split()\n",
    ">>> word_list\n",
    "['One', 'two', 'three', 'four']\n",
    ">>>\n"
   ]
  },
  {
   "cell_type": "markdown",
   "id": "2556b700-638e-4426-a83e-22ca8feed75c",
   "metadata": {},
   "source": [
    "## String Tokens"
   ]
  },
  {
   "cell_type": "code",
   "execution_count": 9,
   "id": "e9c68ed8-23ef-46b7-a758-8901c7482bf2",
   "metadata": {},
   "outputs": [
    {
     "data": {
      "text/plain": [
       "['1', '2', '3', '4', '5']"
      ]
     },
     "execution_count": 9,
     "metadata": {},
     "output_type": "execute_result"
    }
   ],
   "source": [
    ">>> my_string = '1/2/3/4/5'\n",
    ">>> number_list = my_string.split('/')\n",
    ">>> number_list\n",
    "['1', '2', '3', '4', '5']\n",
    ">>>\n"
   ]
  },
  {
   "cell_type": "code",
   "execution_count": 10,
   "id": "cfccd633-012f-474a-993b-a4c24a292dde",
   "metadata": {},
   "outputs": [
    {
     "data": {
      "text/plain": [
       "['peach', 'raspberry', 'strawberry', 'vanilla']"
      ]
     },
     "execution_count": 10,
     "metadata": {},
     "output_type": "execute_result"
    }
   ],
   "source": [
    "my_s='peach raspberry strawberry vanilla'\n",
    "word_list=my_s.split()\n",
    "word_list"
   ]
  },
  {
   "cell_type": "code",
   "execution_count": 11,
   "id": "5f3f28e3-a9af-4b72-b39d-474e8c958c28",
   "metadata": {},
   "outputs": [
    {
     "data": {
      "text/plain": [
       "'17;92;81;12;46;5'"
      ]
     },
     "execution_count": 11,
     "metadata": {},
     "output_type": "execute_result"
    }
   ],
   "source": [
    "'17;92;81;12;46;5'"
   ]
  },
  {
   "cell_type": "code",
   "execution_count": 12,
   "id": "df5373bb-b48d-49a0-a569-ea0824380ae9",
   "metadata": {},
   "outputs": [
    {
     "data": {
      "text/plain": [
       "['17', '92', '81', '12', '46', '5']"
      ]
     },
     "execution_count": 12,
     "metadata": {},
     "output_type": "execute_result"
    }
   ],
   "source": [
    "my_s='17;92;81;12;46;5'\n",
    "num_list=my_s.split(';')\n",
    "num_list\n",
    "                    "
   ]
  },
  {
   "cell_type": "code",
   "execution_count": 13,
   "id": "52a9a82e-d9a0-4963-a975-f26e5c18e0cb",
   "metadata": {},
   "outputs": [
    {
     "data": {
      "text/plain": [
       "'peach raspberry strawberry vanilla'"
      ]
     },
     "execution_count": 13,
     "metadata": {},
     "output_type": "execute_result"
    }
   ],
   "source": [
    "my_s='peach raspberry strawberry vanilla'\n",
    "word_list=my_s.lower()\n",
    "word_list"
   ]
  },
  {
   "cell_type": "markdown",
   "id": "b89e4eb4-b40a-484c-922b-e979536ead9b",
   "metadata": {},
   "source": [
    "## String Methods"
   ]
  },
  {
   "cell_type": "markdown",
   "id": "48ab7947-eb92-4bf5-837e-cbd7d93a741d",
   "metadata": {},
   "source": [
    "### upper method"
   ]
  },
  {
   "cell_type": "code",
   "execution_count": 14,
   "id": "3378898c-e293-4d68-8d75-a794731488cb",
   "metadata": {},
   "outputs": [
    {
     "data": {
      "text/plain": [
       "'PEACH RASPBERRY STRAWBERRY VANILLA'"
      ]
     },
     "execution_count": 14,
     "metadata": {},
     "output_type": "execute_result"
    }
   ],
   "source": [
    "my_s='peach raspberry strawberry vanilla'\n",
    "word_list=my_s.upper()\n",
    "word_list"
   ]
  },
  {
   "cell_type": "markdown",
   "id": "7c6cca15-7ecd-4991-9dc1-7dfd5cfc3739",
   "metadata": {},
   "source": [
    "### lstrip method"
   ]
  },
  {
   "cell_type": "code",
   "execution_count": 15,
   "id": "6b0aeec3-2bca-4f43-9510-dffd29a178d0",
   "metadata": {},
   "outputs": [
    {
     "data": {
      "text/plain": [
       "'krishna     '"
      ]
     },
     "execution_count": 15,
     "metadata": {},
     "output_type": "execute_result"
    }
   ],
   "source": [
    "a='krishna     '\n",
    "a.lstrip()"
   ]
  },
  {
   "cell_type": "markdown",
   "id": "0e4b58aa-6372-4c08-95b5-f83c99747bc4",
   "metadata": {},
   "source": [
    "### rstrip method"
   ]
  },
  {
   "cell_type": "code",
   "execution_count": 16,
   "id": "a362eafb-a629-4d5f-b363-a19eef696133",
   "metadata": {},
   "outputs": [
    {
     "data": {
      "text/plain": [
       "'krishna'"
      ]
     },
     "execution_count": 16,
     "metadata": {},
     "output_type": "execute_result"
    }
   ],
   "source": [
    "a='krishna     '\n",
    "a.rstrip()"
   ]
  },
  {
   "cell_type": "markdown",
   "id": "73cd433a-5250-4e3e-b2ca-2556dc3e2785",
   "metadata": {},
   "source": [
    "### isalnum method"
   ]
  },
  {
   "cell_type": "code",
   "execution_count": 17,
   "id": "9061888e-f178-4393-b699-16acbbc85345",
   "metadata": {},
   "outputs": [
    {
     "data": {
      "text/plain": [
       "True"
      ]
     },
     "execution_count": 17,
     "metadata": {},
     "output_type": "execute_result"
    }
   ],
   "source": [
    "a='krishna'\n",
    "a.isalnum()"
   ]
  },
  {
   "cell_type": "markdown",
   "id": "be20bfa1-7a61-4e2d-a92e-473606b3525b",
   "metadata": {},
   "source": [
    "### isalpha method"
   ]
  },
  {
   "cell_type": "code",
   "execution_count": 19,
   "id": "0d26a692-3b2a-466d-9ad3-ddebb1b83ac2",
   "metadata": {},
   "outputs": [
    {
     "data": {
      "text/plain": [
       "True"
      ]
     },
     "execution_count": 19,
     "metadata": {},
     "output_type": "execute_result"
    }
   ],
   "source": [
    "a='krishna'\n",
    "a.isalpha()"
   ]
  },
  {
   "cell_type": "markdown",
   "id": "53cb1280-20b3-47fe-afc3-caed40269585",
   "metadata": {},
   "source": [
    "### isdigit method"
   ]
  },
  {
   "cell_type": "code",
   "execution_count": 20,
   "id": "d7195b4c-72e1-4f20-8d02-8fc6ce3afa73",
   "metadata": {},
   "outputs": [
    {
     "data": {
      "text/plain": [
       "False"
      ]
     },
     "execution_count": 20,
     "metadata": {},
     "output_type": "execute_result"
    }
   ],
   "source": [
    "a='krishna'\n",
    "a.isdigit()"
   ]
  },
  {
   "cell_type": "markdown",
   "id": "a1c96f18-f708-44dc-be8e-28dbc78361d2",
   "metadata": {},
   "source": [
    "### Starts with substring"
   ]
  },
  {
   "cell_type": "code",
   "execution_count": 2,
   "id": "a8f994f9-be3e-4c9f-b680-9e4804ce797c",
   "metadata": {},
   "outputs": [
    {
     "name": "stdout",
     "output_type": "stream",
     "text": [
      "True\n",
      "True\n"
     ]
    }
   ],
   "source": [
    "# starts with substring \n",
    "x=\"hello krish\"\n",
    "r1=x.endswith(\"krish\")\n",
    "r2=x.endswith(\"krish\")\n",
    "print(f'{r1}')\n",
    "print(f'{r2}')"
   ]
  },
  {
   "cell_type": "markdown",
   "id": "64eae509-6477-4db7-afc9-b5560cdb227e",
   "metadata": {},
   "source": [
    "### find substring"
   ]
  },
  {
   "cell_type": "code",
   "execution_count": 3,
   "id": "93399ca6-2fdd-48ef-9ed8-9f9b6597581d",
   "metadata": {},
   "outputs": [
    {
     "name": "stdout",
     "output_type": "stream",
     "text": [
      "6\n",
      "-1\n",
      "Hello Prof. Nikshep, How are you\n"
     ]
    }
   ],
   "source": [
    "#find substring\n",
    "x=\"Hello krish, How are you\"\n",
    "a=x.find(\"krish\")\n",
    "b=x.find(\"world\")\n",
    "\n",
    "# replace substring\n",
    "given_string = x.replace(\"krish\", \"Prof. Nikshep\")\n",
    "\n",
    "\n",
    "print(f'{a}')\n",
    "print(f'{b}')\n",
    "print(f'{given_string}')"
   ]
  },
  {
   "cell_type": "markdown",
   "id": "2475f21a-d448-4c86-840a-38ad46476e06",
   "metadata": {},
   "source": [
    "### repetition operator"
   ]
  },
  {
   "cell_type": "code",
   "execution_count": 4,
   "id": "0784295a-486a-4ca1-b8fc-62f94d56fdbf",
   "metadata": {},
   "outputs": [
    {
     "name": "stdout",
     "output_type": "stream",
     "text": [
      "hellohellohellohello\n"
     ]
    }
   ],
   "source": [
    "#repetition operator \n",
    "x=\"hello\"\n",
    "y=x*4\n",
    "print(f'{y}')"
   ]
  }
 ],
 "metadata": {
  "kernelspec": {
   "display_name": "Python 3 (ipykernel)",
   "language": "python",
   "name": "python3"
  },
  "language_info": {
   "codemirror_mode": {
    "name": "ipython",
    "version": 3
   },
   "file_extension": ".py",
   "mimetype": "text/x-python",
   "name": "python",
   "nbconvert_exporter": "python",
   "pygments_lexer": "ipython3",
   "version": "3.12.1"
  }
 },
 "nbformat": 4,
 "nbformat_minor": 5
}
