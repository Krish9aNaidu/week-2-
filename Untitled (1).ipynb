{
 "cells": [
  {
   "cell_type": "code",
   "execution_count": 1,
   "id": "1ad1bd52-3f0c-46e5-b355-71014e9cc14e",
   "metadata": {},
   "outputs": [
    {
     "name": "stdout",
     "output_type": "stream",
     "text": [
      "h\n",
      "e\n",
      "l\n",
      "l\n",
      "o\n",
      " \n",
      "w\n",
      "o\n",
      "r\n",
      "l\n",
      "d\n"
     ]
    }
   ],
   "source": [
    "a=\"hello world\"\n",
    "for ch in a:\n",
    "    print(ch)\n",
    "    "
   ]
  },
  {
   "cell_type": "code",
   "execution_count": 2,
   "id": "43eeb15f-e5e5-4168-b12e-16bdf0fe42a3",
   "metadata": {},
   "outputs": [
    {
     "name": "stdout",
     "output_type": "stream",
     "text": [
      "given string: krishna\n",
      "concatenated string: krishna king\n"
     ]
    }
   ],
   "source": [
    "a=\"krishna\"\n",
    "print(\"given string:\", a)\n",
    "new_string = a + \" \" \"king\"\n",
    "print(\"concatenated string:\", new_string)"
   ]
  },
  {
   "cell_type": "code",
   "execution_count": 3,
   "id": "c0e5a03c-2585-4cc3-a26e-b4c1d4393e4e",
   "metadata": {},
   "outputs": [
    {
     "name": "stdout",
     "output_type": "stream",
     "text": [
      "\"world\" is in \"hello world\"\n"
     ]
    }
   ],
   "source": [
    "#using in operator\n",
    "a=\"hello world\"\n",
    "b=\"world\"\n",
    "if b in a:\n",
    "    print(f'\"{b}\" is in \"{a}\"')\n",
    "else:\n",
    "      print(f'\"{b}\"is not in \"{a}\"')"
   ]
  },
  {
   "cell_type": "code",
   "execution_count": 4,
   "id": "32410907-f092-42c4-9563-ca09cf24960f",
   "metadata": {},
   "outputs": [
    {
     "name": "stdout",
     "output_type": "stream",
     "text": [
      "['1', '2', '3', '4', '5']\n"
     ]
    }
   ],
   "source": [
    "my1='1/2/3/4/5'\n",
    "num=my1.split('/')\n",
    "print(num)"
   ]
  },
  {
   "cell_type": "code",
   "execution_count": 5,
   "id": "31b18634-4f7d-4ebb-9286-f8c294625a62",
   "metadata": {},
   "outputs": [
    {
     "name": "stdout",
     "output_type": "stream",
     "text": [
      "['peach color is ornage or chocolate ', ' i hate choloate']\n"
     ]
    }
   ],
   "source": [
    "my2=\"peach color is ornage or chocolate and i hate choloate\"\n",
    "num=my2.split('and')\n",
    "print(num)"
   ]
  },
  {
   "cell_type": "code",
   "execution_count": 6,
   "id": "35d86133-8722-4a98-b8f2-20df583117af",
   "metadata": {},
   "outputs": [
    {
     "name": "stdout",
     "output_type": "stream",
     "text": [
      "True\n"
     ]
    }
   ],
   "source": [
    "a=\"507\"\n",
    "x=a.isdigit()\n",
    "print(x)"
   ]
  },
  {
   "cell_type": "code",
   "execution_count": 7,
   "id": "2a0fae06-d4b2-4989-9bc9-0ec67bbd917c",
   "metadata": {},
   "outputs": [
    {
     "name": "stdout",
     "output_type": "stream",
     "text": [
      "True\n"
     ]
    }
   ],
   "source": [
    "a= \" \"\n",
    "x=a.isspace()\n",
    "print(x)"
   ]
  },
  {
   "cell_type": "code",
   "execution_count": 8,
   "id": "170f5308-9fc7-4658-9a92-40fc5e62245b",
   "metadata": {},
   "outputs": [
    {
     "name": "stdout",
     "output_type": "stream",
     "text": [
      "False\n"
     ]
    }
   ],
   "source": [
    "a=\"krishna ram\"\n",
    "x=a.isupper()\n",
    "print(x)"
   ]
  },
  {
   "cell_type": "code",
   "execution_count": 9,
   "id": "c958a1d6-428c-40d8-99c7-541b31a156a1",
   "metadata": {},
   "outputs": [
    {
     "name": "stdout",
     "output_type": "stream",
     "text": [
      "how are you krishna\n",
      "\"Hello krishna\"\n",
      "\"Hello krishna \"\n",
      "\"Hello krishna\"\n"
     ]
    }
   ],
   "source": [
    "#string methods\n",
    "a=\"HOW ARE YOU krishna\"\n",
    "x=a.lower()\n",
    "print(x)\n",
    "\n",
    "#lstrip()\n",
    "\n",
    "a=\" Hello krishna \"\n",
    "x=a.strip()\n",
    "left_strip=a.lstrip()\n",
    "right_strip=x.rstrip()\n",
    "print(f'\"{x}\"')\n",
    "print(f'\"{left_strip}\"')\n",
    "print(f'\"{right_strip}\"')"
   ]
  },
  {
   "cell_type": "code",
   "execution_count": 10,
   "id": "cf5e51d7-8985-4d17-aaa4-bbcec31a79d5",
   "metadata": {},
   "outputs": [
    {
     "name": "stdout",
     "output_type": "stream",
     "text": [
      "True\n",
      "True\n"
     ]
    }
   ],
   "source": [
    "# starts with substring \n",
    "x=\"hello krishna\"\n",
    "r1=x.endswith(\"krishna\")\n",
    "r2=x.endswith(\"krishna\")\n",
    "print(f'{r1}')\n",
    "print(f'{r2}')"
   ]
  },
  {
   "cell_type": "code",
   "execution_count": 11,
   "id": "51adc27c-652d-4098-9063-402207c69eff",
   "metadata": {},
   "outputs": [
    {
     "name": "stdout",
     "output_type": "stream",
     "text": [
      "6\n",
      "-1\n",
      "Hello ramya, How are you\n"
     ]
    }
   ],
   "source": [
    "#find substring\n",
    "x=\"Hello krishna, How are you\"\n",
    "a=x.find(\"krishna\")\n",
    "b=x.find(\"world\")\n",
    "\n",
    "# replace substring\n",
    "given_string = x.replace(\"krishna\", \"ramya\")\n",
    "\n",
    "\n",
    "print(f'{a}')\n",
    "print(f'{b}')\n",
    "print(f'{given_string}')"
   ]
  },
  {
   "cell_type": "code",
   "execution_count": 12,
   "id": "fb11cd93-9a80-4d95-8e75-d2267af64f3f",
   "metadata": {},
   "outputs": [
    {
     "name": "stdout",
     "output_type": "stream",
     "text": [
      "hellohellohellohello\n"
     ]
    }
   ],
   "source": [
    "#repetition operator \n",
    "x=\"hello\"\n",
    "y=x*4\n",
    "print(f'{y}')"
   ]
  },
  {
   "cell_type": "code",
   "execution_count": 13,
   "id": "070c7a07-619f-454b-8df3-1aa583d9381d",
   "metadata": {},
   "outputs": [
    {
     "ename": "SyntaxError",
     "evalue": "unterminated string literal (detected at line 2) (3411497421.py, line 2)",
     "output_type": "error",
     "traceback": [
      "\u001b[1;36m  Cell \u001b[1;32mIn[13], line 2\u001b[1;36m\u001b[0m\n\u001b[1;33m    str=' peach raspe\u001b[0m\n\u001b[1;37m        ^\u001b[0m\n\u001b[1;31mSyntaxError\u001b[0m\u001b[1;31m:\u001b[0m unterminated string literal (detected at line 2)\n"
     ]
    }
   ],
   "source": [
    "#string tokens\n",
    "str=' peach raspe"
   ]
  },
  {
   "cell_type": "code",
   "execution_count": null,
   "id": "f7def92a-697f-4b40-b738-6620f19abd5c",
   "metadata": {},
   "outputs": [],
   "source": []
  }
 ],
 "metadata": {
  "kernelspec": {
   "display_name": "Python 3 (ipykernel)",
   "language": "python",
   "name": "python3"
  },
  "language_info": {
   "codemirror_mode": {
    "name": "ipython",
    "version": 3
   },
   "file_extension": ".py",
   "mimetype": "text/x-python",
   "name": "python",
   "nbconvert_exporter": "python",
   "pygments_lexer": "ipython3",
   "version": "3.12.1"
  }
 },
 "nbformat": 4,
 "nbformat_minor": 5
}
