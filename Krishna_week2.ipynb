{
 "cells": [
  {
   "cell_type": "markdown",
   "id": "6e8a6f3e-30d3-4e39-8108-aea9745e93a0",
   "metadata": {},
   "source": [
    "# Text Based Analysis - week 2 class work\n"
   ]
  },
  {
   "cell_type": "code",
   "execution_count": 1,
   "id": "f6e1c239-664f-433b-a187-18ad1dffff47",
   "metadata": {},
   "outputs": [
    {
     "name": "stdout",
     "output_type": "stream",
     "text": [
      "Hello\n"
     ]
    }
   ],
   "source": [
    "##Python Strings Program\n",
    "A=\"Hello\"\n",
    "print(A)"
   ]
  },
  {
   "cell_type": "markdown",
   "id": "7f881a48-3329-4a3a-bb15-ce317f723f2d",
   "metadata": {},
   "source": [
    "## String Functions"
   ]
  },
  {
   "cell_type": "code",
   "execution_count": 2,
   "id": "40657ba2-5893-4995-9e5a-478e2d65b9cc",
   "metadata": {},
   "outputs": [
    {
     "name": "stdout",
     "output_type": "stream",
     "text": [
      "10\n",
      "KRISHNA HI\n",
      "krishna hi\n",
      "Krishna Ji\n"
     ]
    }
   ],
   "source": [
    "# String Functions upper length lower replace\n",
    "A=\"Krishna Hi\"\n",
    "print(len(A))\n",
    "print(A.upper())\n",
    "print(A.lower())\n",
    "print(A.replace(\"H\",\"J\"))"
   ]
  },
  {
   "cell_type": "markdown",
   "id": "e35f62ee-2c02-4d4a-a884-3209946c0695",
   "metadata": {},
   "source": [
    "### Concatenation of a String"
   ]
  },
  {
   "cell_type": "code",
   "execution_count": 3,
   "id": "01352002-5d6c-4e6e-9bf3-b4d43a297ccc",
   "metadata": {},
   "outputs": [
    {
     "name": "stdout",
     "output_type": "stream",
     "text": [
      "given string: krishna\n",
      "concatenated string: krishna king\n"
     ]
    }
   ],
   "source": [
    "#Concatenation of string  \n",
    "a=\"krishna\"\n",
    "print(\"given string:\", a)\n",
    "new_string = a + \" \" \"king\"\n",
    "print(\"concatenated string:\", new_string)"
   ]
  },
  {
   "cell_type": "markdown",
   "id": "2d841544-de6c-4ed1-9fa1-9e8243e1075a",
   "metadata": {},
   "source": [
    "### String Methods"
   ]
  },
  {
   "cell_type": "code",
   "execution_count": 4,
   "id": "720ec8a9-764a-4653-83a8-9122faa020f5",
   "metadata": {},
   "outputs": [
    {
     "name": "stdout",
     "output_type": "stream",
     "text": [
      "how are you krishna\n",
      "\"Hello krishna\"\n",
      "\"Hello krishna \"\n",
      "\"Hello krishna\"\n"
     ]
    }
   ],
   "source": [
    "#string methods\n",
    "a=\"HOW ARE YOU krishna\"\n",
    "x=a.lower()\n",
    "print(x)\n",
    "\n",
    "#lstrip()\n",
    "\n",
    "a=\" Hello krishna \"\n",
    "x=a.strip()\n",
    "left_strip=a.lstrip()\n",
    "right_strip=x.rstrip()\n",
    "print(f'\"{x}\"')\n",
    "print(f'\"{left_strip}\"')\n",
    "print(f'\"{right_strip}\"')"
   ]
  },
  {
   "cell_type": "markdown",
   "id": "339e11d7-fde9-421d-b865-3c1cca97782d",
   "metadata": {},
   "source": [
    "#### Substring"
   ]
  },
  {
   "cell_type": "code",
   "execution_count": 5,
   "id": "8c65869b-5c5f-4e73-a924-d75ae509d975",
   "metadata": {},
   "outputs": [
    {
     "name": "stdout",
     "output_type": "stream",
     "text": [
      "True\n",
      "False\n"
     ]
    }
   ],
   "source": [
    "# starts with substring \n",
    "x=\"hello krishna\"\n",
    "r1=x.endswith(\"krishna\")\n",
    "r2=x.endswith(\"Hello\")\n",
    "print(f'{r1}')\n",
    "print(f'{r2}')"
   ]
  },
  {
   "cell_type": "code",
   "execution_count": 6,
   "id": "b999421c-93ff-427d-9ede-032541544ba9",
   "metadata": {},
   "outputs": [
    {
     "name": "stdout",
     "output_type": "stream",
     "text": [
      "6\n",
      "-1\n",
      "Hello radha, How are you\n"
     ]
    }
   ],
   "source": [
    "#find substring\n",
    "x=\"Hello krishna, How are you\"\n",
    "a=x.find(\"krishna\")\n",
    "b=x.find(\"world\")\n",
    "\n",
    "# replace substring\n",
    "given_string = x.replace(\"krishna\", \"radha\")\n",
    "\n",
    "\n",
    "print(f'{a}')\n",
    "print(f'{b}')\n",
    "print(f'{given_string}')"
   ]
  },
  {
   "cell_type": "markdown",
   "id": "ef445af4-450e-4f13-b63a-3894bbef8e29",
   "metadata": {},
   "source": [
    "#### Repetition operator"
   ]
  },
  {
   "cell_type": "code",
   "execution_count": 7,
   "id": "6f0ecd61-31d1-4897-a349-a37d0fd5a347",
   "metadata": {},
   "outputs": [
    {
     "name": "stdout",
     "output_type": "stream",
     "text": [
      "hellohellohellohello\n"
     ]
    }
   ],
   "source": [
    "#repetition operator \n",
    "x=\"hello\"\n",
    "y=x*4\n",
    "print(f'{y}')"
   ]
  }
 ],
 "metadata": {
  "kernelspec": {
   "display_name": "Python 3 (ipykernel)",
   "language": "python",
   "name": "python3"
  },
  "language_info": {
   "codemirror_mode": {
    "name": "ipython",
    "version": 3
   },
   "file_extension": ".py",
   "mimetype": "text/x-python",
   "name": "python",
   "nbconvert_exporter": "python",
   "pygments_lexer": "ipython3",
   "version": "3.12.1"
  }
 },
 "nbformat": 4,
 "nbformat_minor": 5
}
