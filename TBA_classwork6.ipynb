{
 "cells": [
  {
   "cell_type": "code",
   "execution_count": 11,
   "id": "cf9ad0cb-c56c-4867-91e2-108af6313633",
   "metadata": {},
   "outputs": [
    {
     "name": "stdout",
     "output_type": "stream",
     "text": [
      "Requirement already satisfied: networkx in c:\\users\\geeth\\appdata\\local\\programs\\python\\python312\\lib\\site-packages (3.2.1)\n"
     ]
    },
    {
     "name": "stderr",
     "output_type": "stream",
     "text": [
      "\n",
      "[notice] A new release of pip is available: 23.3.2 -> 24.0\n",
      "[notice] To update, run: python.exe -m pip install --upgrade pip\n"
     ]
    }
   ],
   "source": [
    "!pip install networkx\n",
    "\n",
    "from nltk.corpus import stopwords #you can remove stop words for speed\n",
    "from nltk.cluster.util import cosine_distance\n",
    "import numpy as np\n",
    "import networkx as nx"
   ]
  },
  {
   "cell_type": "markdown",
   "id": "b20e8201-3e15-4df5-a904-c3831b1a1894",
   "metadata": {},
   "source": [
    "## LOADING DATA SET "
   ]
  },
  {
   "cell_type": "code",
   "execution_count": 22,
   "id": "403202e6-4204-4a7b-b1cd-910a9712bb34",
   "metadata": {},
   "outputs": [
    {
     "name": "stdout",
     "output_type": "stream",
     "text": [
      "It was the best of times. It was the worst of times. It was the age of wisdom. It was the age of foolishness. What is the importance of age. This is the best example.\n"
     ]
    }
   ],
   "source": [
    "with open('Text1.txt', 'r') as file:\n",
    "    # Read the entire contents of the file\n",
    "    contents = file.read()\n",
    "\n",
    "# Print the contents of the file\n",
    "print(contents)"
   ]
  },
  {
   "cell_type": "markdown",
   "id": "b64fce2a-abd5-41b3-8dd3-cbf7d92a53b1",
   "metadata": {},
   "source": [
    "## OPEN FILE AND SPLIT INTO SENTENCES"
   ]
  },
  {
   "cell_type": "code",
   "execution_count": 23,
   "id": "4f45d6fe-8d45-42b3-85c5-bed449a3c03c",
   "metadata": {},
   "outputs": [
    {
     "name": "stdout",
     "output_type": "stream",
     "text": [
      "It was the best of times\n",
      "It was the worst of times\n",
      "It was the age of wisdom\n",
      "It was the age of foolishness\n",
      "What is the importance of age\n",
      "This is the best example.\n"
     ]
    }
   ],
   "source": [
    " # Open the file \"Text1.txt\" in read mode\n",
    "file = open(\"Text1.txt\", \"r\")\n",
    "\n",
    "# Read all lines of the file into a list\n",
    "filedata = file.readlines()\n",
    "\n",
    "# Split the first paragraph into sentences based on the period followed by a space\n",
    "article = filedata[0].split(\". \")  # Assuming each sentence ends with \". \".\n",
    "\n",
    "# Initialize an empty list to store individual sentences\n",
    "sentences = []\n",
    "\n",
    "# Iterate through each sentence in the article\n",
    "for sentence in article:\n",
    "    # Print each sentence\n",
    "    print(sentence)\n",
    "    # Replace non-alphabetic characters with spaces and split the sentence into words\n",
    "    sentences.append(sentence.replace(\"[^a-zA-Z]\", \" \").split(\" \"))"
   ]
  },
  {
   "cell_type": "markdown",
   "id": "45f01fd3-9154-4c71-9bfa-7cef78a0cbf1",
   "metadata": {},
   "source": [
    "## OUR DATA: A LIST OF SENTENCES"
   ]
  },
  {
   "cell_type": "code",
   "execution_count": 24,
   "id": "cb9a5255-5fa6-4386-a397-1b2fd1791e28",
   "metadata": {},
   "outputs": [
    {
     "name": "stdout",
     "output_type": "stream",
     "text": [
      "Sentences are  [['It', 'was', 'the', 'best', 'of', 'times'], ['It', 'was', 'the', 'worst', 'of', 'times'], ['It', 'was', 'the', 'age', 'of', 'wisdom'], ['It', 'was', 'the', 'age', 'of', 'foolishness'], ['What', 'is', 'the', 'importance', 'of', 'age'], ['This', 'is', 'the', 'best', 'example.']]\n"
     ]
    }
   ],
   "source": [
    "print(\"Sentences are \", sentences)"
   ]
  },
  {
   "cell_type": "markdown",
   "id": "ec177cbf-4b4f-42a3-b621-81b9df9a3f7c",
   "metadata": {},
   "source": [
    "## FUNCTION TO CALCULATE SIMILARITY"
   ]
  },
  {
   "cell_type": "code",
   "execution_count": 25,
   "id": "5dbbc06b-1a43-4e9b-abdc-2ae5f75eafef",
   "metadata": {},
   "outputs": [],
   "source": [
    "def sentence_similarity(sent1, sent2):\n",
    "    # Convert all words to lowercase\n",
    "    sent1 = [w.lower() for w in sent1]\n",
    "    sent2 = [w.lower() for w in sent2]\n",
    "\n",
    "    # Get all unique words from both sentences\n",
    "    all_words = list(set(sent1 + sent2))\n",
    "\n",
    "    # Initialize vectors for both sentences with zeros\n",
    "    vector1 = [0] * len(all_words)\n",
    "    vector2 = [0] * len(all_words)\n",
    "\n",
    "    # Build the vector for the first sentence\n",
    "    for w in sent1:\n",
    "        # Increment the count of the word in the vector\n",
    "        vector1[all_words.index(w)] += 1\n",
    "\n",
    "    # Build the vector for the second sentence\n",
    "    for w in sent2:\n",
    "        # Increment the count of the word in the vector\n",
    "        vector2[all_words.index(w)] += 1\n",
    "        return 1 - cosine_distance(vector1, vector2)\n"
   ]
  },
  {
   "cell_type": "markdown",
   "id": "ece2ff1b-e40e-49bb-8a3a-9fe7fa1d5272",
   "metadata": {},
   "source": [
    "## CREATING THE SIMILARITY MATRIX"
   ]
  },
  {
   "cell_type": "code",
   "execution_count": 26,
   "id": "d54e3015-83db-4dd6-8de1-94bf979040bc",
   "metadata": {},
   "outputs": [
    {
     "name": "stdout",
     "output_type": "stream",
     "text": [
      "Smilarity matrix \n",
      " [[0.         0.40824829 0.40824829 0.40824829 0.         0.        ]\n",
      " [0.40824829 0.         0.40824829 0.40824829 0.         0.        ]\n",
      " [0.40824829 0.40824829 0.         0.40824829 0.         0.        ]\n",
      " [0.40824829 0.40824829 0.40824829 0.         0.         0.        ]\n",
      " [0.         0.         0.         0.         0.         0.        ]\n",
      " [0.         0.         0.         0.         0.         0.        ]]\n"
     ]
    }
   ],
   "source": [
    "similarity_matrix = np.zeros((len(sentences), len(sentences)))\n",
    " \n",
    "for idx1 in range(len(sentences)):\n",
    "        for idx2 in range(len(sentences)):\n",
    "             if idx1 == idx2: #ignore if both are same sentences\n",
    "                continue \n",
    "             similarity_matrix[idx1][idx2] = sentence_similarity(sentences[idx1], sentences[idx2])\n",
    "\n",
    "print(\"Smilarity matrix \\n\", similarity_matrix)"
   ]
  },
  {
   "cell_type": "markdown",
   "id": "28d3ff64-cfa9-494b-9688-0f83a5f7ad59",
   "metadata": {},
   "source": [
    "## GET THE PAGERANK SCORES"
   ]
  },
  {
   "cell_type": "code",
   "execution_count": 27,
   "id": "97f804d5-e8ae-4e71-ace1-07dd665714b2",
   "metadata": {},
   "outputs": [
    {
     "name": "stdout",
     "output_type": "stream",
     "text": [
      "PageRank scores: {0: 0.2325579198470909, 1: 0.2325579198470909, 2: 0.2325579198470909, 3: 0.2325579198470909, 4: 0.03488416030581799, 5: 0.03488416030581799}\n"
     ]
    }
   ],
   "source": [
    "import networkx as nx\n",
    "\n",
    "# Create a graph from the similarity matrix using NetworkX\n",
    "sentence_similarity_graph = nx.from_numpy_array(similarity_matrix)\n",
    "\n",
    "# Calculate the PageRank scores for each node (sentence) in the graph\n",
    "scores = nx.pagerank(sentence_similarity_graph)\n",
    "\n",
    "# Print the PageRank scores\n",
    "print(\"PageRank scores:\", scores)"
   ]
  },
  {
   "cell_type": "markdown",
   "id": "826cde31-ceef-4cde-8567-774a4f537ba8",
   "metadata": {},
   "source": [
    "## SORT SENTENCES BY PAGERANK"
   ]
  },
  {
   "cell_type": "code",
   "execution_count": 28,
   "id": "04789a7f-b66a-47cc-a85f-3a206346eee5",
   "metadata": {},
   "outputs": [
    {
     "name": "stdout",
     "output_type": "stream",
     "text": [
      "Indexes of top ranked sentences in descending order:\n",
      " [(0.2325579198470909, ['It', 'was', 'the', 'worst', 'of', 'times']), (0.2325579198470909, ['It', 'was', 'the', 'best', 'of', 'times']), (0.2325579198470909, ['It', 'was', 'the', 'age', 'of', 'wisdom']), (0.2325579198470909, ['It', 'was', 'the', 'age', 'of', 'foolishness']), (0.03488416030581799, ['What', 'is', 'the', 'importance', 'of', 'age']), (0.03488416030581799, ['This', 'is', 'the', 'best', 'example.'])]\n"
     ]
    }
   ],
   "source": [
    "#  Sort the sentences based on their PageRank scores in descending order\n",
    "ranked_sentence = sorted(((scores[i], s) for i, s in enumerate(sentences)), reverse=True)\n",
    "\n",
    "# Print the indexes of top-ranked sentences in the order of their importance\n",
    "print(\"Indexes of top ranked sentences in descending order:\\n\", ranked_sentence)"
   ]
  },
  {
   "cell_type": "markdown",
   "id": "7dc1f900-e0a4-475c-90b7-ead5c91e5378",
   "metadata": {},
   "source": [
    "## PICK THE TOP \"N\" SENTENCES "
   ]
  },
  {
   "cell_type": "code",
   "execution_count": 29,
   "id": "b6a16e37-5f8e-4b91-b43a-17b776587fc3",
   "metadata": {},
   "outputs": [
    {
     "name": "stdin",
     "output_type": "stream",
     "text": [
      "How many sentences do you want in the summary?  4\n"
     ]
    }
   ],
   "source": [
    "#  Step 5 - How many sentences to pick\n",
    "\n",
    "# Prompt the user to input the number of sentences they want in the summary\n",
    "n = int(input(\"How many sentences do you want in the summary? \"))\n",
    "\n",
    "# Initialize an empty list to store the summarized sentences\n",
    "summarize_text = []\n",
    "\n",
    "# Iterate through the top n ranked sentences and join them into a single string\n",
    "for i in range(n):\n",
    "    # Append the joined sentence to the summarize_text list\n",
    "    summarize_text.append(\" \".join(ranked_sentence[i][1]))"
   ]
  },
  {
   "cell_type": "markdown",
   "id": "579c1b62-b820-4349-bfb6-fee7f51001ee",
   "metadata": {},
   "source": [
    "## PRINTING THE SUMMARY"
   ]
  },
  {
   "cell_type": "code",
   "execution_count": 30,
   "id": "6e35c2c8-7352-49ca-8f6c-be2d299c962f",
   "metadata": {},
   "outputs": [
    {
     "name": "stdout",
     "output_type": "stream",
     "text": [
      "Summarized Text:\n",
      " It was the worst of times. It was the best of times. It was the age of wisdom. It was the age of foolishness\n"
     ]
    }
   ],
   "source": [
    "#  Step 6 - Output the summarized text\n",
    "\n",
    "# Print the summarized text by joining the sentences with a period and a space\n",
    "print(\"Summarized Text:\\n\", \". \".join(summarize_text))"
   ]
  },
  {
   "cell_type": "markdown",
   "id": "892702a4-c5e7-470b-919a-c7db1aeb5ecb",
   "metadata": {},
   "source": [
    "# <center>TEXT2 SUMMARIZATION</center>"
   ]
  },
  {
   "cell_type": "markdown",
   "id": "843f9cbb-5b60-4db9-8c59-eada48b6515e",
   "metadata": {},
   "source": [
    "## LOADING DATA SET "
   ]
  },
  {
   "cell_type": "code",
   "execution_count": 31,
   "id": "b037e8ba-86e1-47be-9403-8ca39ee76005",
   "metadata": {},
   "outputs": [
    {
     "name": "stdout",
     "output_type": "stream",
     "text": [
      "I AM SAM. I AM SAM. SAM I AM. THAT SAM-I-AM! THAT SAM-I-AM!. I DO NOT LIKE THAT SAM-I-AM!. DO WOULD YOU LIKE GREEN EGGS AND HAM?. I DO NOT LIKE THEM, SAM-I-AM. I DO NOT LIKE GREEN EGGS AND HAM. WOULD YOU LIKE THEM HERE OR THERE?. I WOULD NOT LIKE THEM HERE OR THERE. I WOULD NOT LIKE THEM ANYWHERE. I DO NOT LIKE GREEN EGGS AND HAM. I DO NOT LIKE THEM, SAM-I-AM. WOULD YOU LIKE THEM IN A HOUSE?. WOULD YOU LIKE THEN WITH A MOUSE?. I DO NOT LIKE THEM IN A HOUSE. I DO NOT LIKE THEM WITH A MOUSE. I DO NOT LIKE THEM HERE OR THERE. I DO NOT LIKE THEM ANYWHERE. I DO NOT LIKE GREEN EGGS AND HAM. I DO NOT LIKE THEM, SAM-I-AM.\n",
      "  \n"
     ]
    }
   ],
   "source": [
    "with open('Text2.txt', 'r') as file:\n",
    "    # Read the entire contents of the file\n",
    "    contents = file.read()\n",
    "\n",
    "# Print the contents of the file\n",
    "print(contents)"
   ]
  },
  {
   "cell_type": "markdown",
   "id": "a49abdc7-3e8b-453b-8a6d-ed3835390134",
   "metadata": {},
   "source": [
    "## OPEN FILE AND SPLIT INTO SENTENCES"
   ]
  },
  {
   "cell_type": "code",
   "execution_count": 32,
   "id": "910780f7-f189-4db9-a5f8-6186268d2f0c",
   "metadata": {},
   "outputs": [
    {
     "name": "stdout",
     "output_type": "stream",
     "text": [
      "I AM SAM\n",
      "I AM SAM\n",
      "SAM I AM\n",
      "THAT SAM-I-AM! THAT SAM-I-AM!\n",
      "I DO NOT LIKE THAT SAM-I-AM!\n",
      "DO WOULD YOU LIKE GREEN EGGS AND HAM?\n",
      "I DO NOT LIKE THEM, SAM-I-AM\n",
      "I DO NOT LIKE GREEN EGGS AND HAM\n",
      "WOULD YOU LIKE THEM HERE OR THERE?\n",
      "I WOULD NOT LIKE THEM HERE OR THERE\n",
      "I WOULD NOT LIKE THEM ANYWHERE\n",
      "I DO NOT LIKE GREEN EGGS AND HAM\n",
      "I DO NOT LIKE THEM, SAM-I-AM\n",
      "WOULD YOU LIKE THEM IN A HOUSE?\n",
      "WOULD YOU LIKE THEN WITH A MOUSE?\n",
      "I DO NOT LIKE THEM IN A HOUSE\n",
      "I DO NOT LIKE THEM WITH A MOUSE\n",
      "I DO NOT LIKE THEM HERE OR THERE\n",
      "I DO NOT LIKE THEM ANYWHERE\n",
      "I DO NOT LIKE GREEN EGGS AND HAM\n",
      "I DO NOT LIKE THEM, SAM-I-AM.\n",
      "\n"
     ]
    }
   ],
   "source": [
    "# Open the file \"Text1.txt\" in read mode\n",
    "file = open(\"Text2.txt\", \"r\")\n",
    "\n",
    "# Read all lines of the file into a list\n",
    "filedata = file.readlines()\n",
    "\n",
    "# Split the first paragraph into sentences based on the period followed by a space\n",
    "article = filedata[0].split(\". \")  # Assuming each sentence ends with \". \".\n",
    "\n",
    "# Initialize an empty list to store individual sentences\n",
    "sentences = []\n",
    "\n",
    "# Iterate through each sentence in the article\n",
    "for sentence in article:\n",
    "    # Print each sentence\n",
    "    print(sentence)\n",
    "    # Replace non-alphabetic characters with spaces and split the sentence into words\n",
    "    sentences.append(sentence.replace(\"[^a-zA-Z]\", \" \").split(\" \"))"
   ]
  },
  {
   "cell_type": "markdown",
   "id": "047cee88-d747-4d57-9ce8-078669d9560a",
   "metadata": {},
   "source": [
    "## OUR DATA: A LIST OF SENTENCES## "
   ]
  },
  {
   "cell_type": "code",
   "execution_count": 34,
   "id": "e4868c0b-8e9c-4bff-9f22-d923d82a5edd",
   "metadata": {},
   "outputs": [
    {
     "name": "stdout",
     "output_type": "stream",
     "text": [
      "Sentences are  [['I', 'AM', 'SAM'], ['I', 'AM', 'SAM'], ['SAM', 'I', 'AM'], ['THAT', 'SAM-I-AM!', 'THAT', 'SAM-I-AM!'], ['I', 'DO', 'NOT', 'LIKE', 'THAT', 'SAM-I-AM!'], ['DO', 'WOULD', 'YOU', 'LIKE', 'GREEN', 'EGGS', 'AND', 'HAM?'], ['I', 'DO', 'NOT', 'LIKE', 'THEM,', 'SAM-I-AM'], ['I', 'DO', 'NOT', 'LIKE', 'GREEN', 'EGGS', 'AND', 'HAM'], ['WOULD', 'YOU', 'LIKE', 'THEM', 'HERE', 'OR', 'THERE?'], ['I', 'WOULD', 'NOT', 'LIKE', 'THEM', 'HERE', 'OR', 'THERE'], ['I', 'WOULD', 'NOT', 'LIKE', 'THEM', 'ANYWHERE'], ['I', 'DO', 'NOT', 'LIKE', 'GREEN', 'EGGS', 'AND', 'HAM'], ['I', 'DO', 'NOT', 'LIKE', 'THEM,', 'SAM-I-AM'], ['WOULD', 'YOU', 'LIKE', 'THEM', 'IN', 'A', 'HOUSE?'], ['WOULD', 'YOU', 'LIKE', 'THEN', 'WITH', 'A', 'MOUSE?'], ['I', 'DO', 'NOT', 'LIKE', 'THEM', 'IN', 'A', 'HOUSE'], ['I', 'DO', 'NOT', 'LIKE', 'THEM', 'WITH', 'A', 'MOUSE'], ['I', 'DO', 'NOT', 'LIKE', 'THEM', 'HERE', 'OR', 'THERE'], ['I', 'DO', 'NOT', 'LIKE', 'THEM', 'ANYWHERE'], ['I', 'DO', 'NOT', 'LIKE', 'GREEN', 'EGGS', 'AND', 'HAM'], ['I', 'DO', 'NOT', 'LIKE', 'THEM,', 'SAM-I-AM.\\n']]\n"
     ]
    }
   ],
   "source": [
    "print(\"Sentences are \", sentences)"
   ]
  },
  {
   "cell_type": "markdown",
   "id": "d719cd4b-f1fa-401a-bcb9-4a1cc0c57c1b",
   "metadata": {},
   "source": [
    "## FUNCTION TO CALCULATE SIMILARITY"
   ]
  },
  {
   "cell_type": "code",
   "execution_count": 35,
   "id": "96fddefa-24be-4499-8ea1-3f6e0364427b",
   "metadata": {},
   "outputs": [],
   "source": [
    "def sentence_similarity(sent1, sent2):\n",
    "    # Convert all words to lowercase\n",
    "    sent1 = [w.lower() for w in sent1]\n",
    "    sent2 = [w.lower() for w in sent2]\n",
    "\n",
    "    # Get all unique words from both sentences\n",
    "    all_words = list(set(sent1 + sent2))\n",
    "\n",
    "    # Initialize vectors for both sentences with zeros\n",
    "    vector1 = [0] * len(all_words)\n",
    "    vector2 = [0] * len(all_words)\n",
    "\n",
    "    # Build the vector for the first sentence\n",
    "    for w in sent1:\n",
    "        # Increment the count of the word in the vector\n",
    "        vector1[all_words.index(w)] += 1\n",
    "\n",
    "    # Build the vector for the second sentence\n",
    "    for w in sent2:\n",
    "        # Increment the count of the word in the vector\n",
    "        vector2[all_words.index(w)] += 1\n",
    "        return 1 - cosine_distance(vector1, vector2)"
   ]
  },
  {
   "cell_type": "markdown",
   "id": "a2c88e53-b81a-478b-981a-f5fb4d7bb3e3",
   "metadata": {},
   "source": [
    "## CREATING THE SIMILARITY MATRIX"
   ]
  },
  {
   "cell_type": "code",
   "execution_count": 36,
   "id": "5a3eb0b4-cdb5-4d09-8f4e-9e53fb8986c3",
   "metadata": {},
   "outputs": [
    {
     "name": "stdout",
     "output_type": "stream",
     "text": [
      "Smilarity matrix \n",
      " [[0.         0.57735027 0.57735027 0.         0.57735027 0.\n",
      "  0.57735027 0.57735027 0.         0.57735027 0.57735027 0.57735027\n",
      "  0.57735027 0.         0.         0.57735027 0.57735027 0.57735027\n",
      "  0.57735027 0.57735027 0.57735027]\n",
      " [0.57735027 0.         0.57735027 0.         0.57735027 0.\n",
      "  0.57735027 0.57735027 0.         0.57735027 0.57735027 0.57735027\n",
      "  0.57735027 0.         0.         0.57735027 0.57735027 0.57735027\n",
      "  0.57735027 0.57735027 0.57735027]\n",
      " [0.57735027 0.57735027 0.         0.         0.57735027 0.\n",
      "  0.57735027 0.57735027 0.         0.57735027 0.57735027 0.57735027\n",
      "  0.57735027 0.         0.         0.57735027 0.57735027 0.57735027\n",
      "  0.57735027 0.57735027 0.57735027]\n",
      " [0.         0.         0.         0.         0.         0.\n",
      "  0.         0.         0.         0.         0.         0.\n",
      "  0.         0.         0.         0.         0.         0.\n",
      "  0.         0.         0.        ]\n",
      " [0.40824829 0.40824829 0.         0.40824829 0.         0.40824829\n",
      "  0.40824829 0.40824829 0.         0.40824829 0.40824829 0.40824829\n",
      "  0.40824829 0.         0.         0.40824829 0.40824829 0.40824829\n",
      "  0.40824829 0.40824829 0.40824829]\n",
      " [0.         0.         0.         0.         0.         0.\n",
      "  0.         0.         0.35355339 0.         0.         0.\n",
      "  0.         0.35355339 0.35355339 0.         0.         0.\n",
      "  0.         0.         0.        ]\n",
      " [0.40824829 0.40824829 0.         0.         0.40824829 0.40824829\n",
      "  0.         0.40824829 0.         0.40824829 0.40824829 0.40824829\n",
      "  0.40824829 0.         0.         0.40824829 0.40824829 0.40824829\n",
      "  0.40824829 0.40824829 0.40824829]\n",
      " [0.35355339 0.35355339 0.         0.         0.35355339 0.35355339\n",
      "  0.35355339 0.         0.         0.35355339 0.35355339 0.35355339\n",
      "  0.35355339 0.         0.         0.35355339 0.35355339 0.35355339\n",
      "  0.35355339 0.35355339 0.35355339]\n",
      " [0.         0.         0.         0.         0.         0.\n",
      "  0.         0.         0.         0.         0.         0.\n",
      "  0.         0.37796447 0.37796447 0.         0.         0.\n",
      "  0.         0.         0.        ]\n",
      " [0.35355339 0.35355339 0.         0.         0.35355339 0.\n",
      "  0.35355339 0.35355339 0.35355339 0.         0.35355339 0.35355339\n",
      "  0.35355339 0.35355339 0.35355339 0.35355339 0.35355339 0.35355339\n",
      "  0.35355339 0.35355339 0.35355339]\n",
      " [0.40824829 0.40824829 0.         0.         0.40824829 0.\n",
      "  0.40824829 0.40824829 0.40824829 0.40824829 0.         0.40824829\n",
      "  0.40824829 0.40824829 0.40824829 0.40824829 0.40824829 0.40824829\n",
      "  0.40824829 0.40824829 0.40824829]\n",
      " [0.35355339 0.35355339 0.         0.         0.35355339 0.35355339\n",
      "  0.35355339 0.35355339 0.         0.35355339 0.35355339 0.\n",
      "  0.35355339 0.         0.         0.35355339 0.35355339 0.35355339\n",
      "  0.35355339 0.35355339 0.35355339]\n",
      " [0.40824829 0.40824829 0.         0.         0.40824829 0.40824829\n",
      "  0.40824829 0.40824829 0.         0.40824829 0.40824829 0.40824829\n",
      "  0.         0.         0.         0.40824829 0.40824829 0.40824829\n",
      "  0.40824829 0.40824829 0.40824829]\n",
      " [0.         0.         0.         0.         0.         0.\n",
      "  0.         0.         0.37796447 0.         0.         0.\n",
      "  0.         0.         0.37796447 0.         0.         0.\n",
      "  0.         0.         0.        ]\n",
      " [0.         0.         0.         0.         0.         0.\n",
      "  0.         0.         0.37796447 0.         0.         0.\n",
      "  0.         0.37796447 0.         0.         0.         0.\n",
      "  0.         0.         0.        ]\n",
      " [0.35355339 0.35355339 0.         0.         0.35355339 0.35355339\n",
      "  0.35355339 0.35355339 0.         0.35355339 0.35355339 0.35355339\n",
      "  0.35355339 0.         0.         0.         0.35355339 0.35355339\n",
      "  0.35355339 0.35355339 0.35355339]\n",
      " [0.35355339 0.35355339 0.         0.         0.35355339 0.35355339\n",
      "  0.35355339 0.35355339 0.         0.35355339 0.35355339 0.35355339\n",
      "  0.35355339 0.         0.         0.35355339 0.         0.35355339\n",
      "  0.35355339 0.35355339 0.35355339]\n",
      " [0.35355339 0.35355339 0.         0.         0.35355339 0.35355339\n",
      "  0.35355339 0.35355339 0.         0.35355339 0.35355339 0.35355339\n",
      "  0.35355339 0.         0.         0.35355339 0.35355339 0.\n",
      "  0.35355339 0.35355339 0.35355339]\n",
      " [0.40824829 0.40824829 0.         0.         0.40824829 0.40824829\n",
      "  0.40824829 0.40824829 0.         0.40824829 0.40824829 0.40824829\n",
      "  0.40824829 0.         0.         0.40824829 0.40824829 0.40824829\n",
      "  0.         0.40824829 0.40824829]\n",
      " [0.35355339 0.35355339 0.         0.         0.35355339 0.35355339\n",
      "  0.35355339 0.35355339 0.         0.35355339 0.35355339 0.35355339\n",
      "  0.35355339 0.         0.         0.35355339 0.35355339 0.35355339\n",
      "  0.35355339 0.         0.35355339]\n",
      " [0.40824829 0.40824829 0.         0.         0.40824829 0.40824829\n",
      "  0.40824829 0.40824829 0.         0.40824829 0.40824829 0.40824829\n",
      "  0.40824829 0.         0.         0.40824829 0.40824829 0.40824829\n",
      "  0.40824829 0.40824829 0.        ]]\n"
     ]
    }
   ],
   "source": [
    "similarity_matrix = np.zeros((len(sentences), len(sentences)))\n",
    " \n",
    "for idx1 in range(len(sentences)):\n",
    "        for idx2 in range(len(sentences)):\n",
    "             if idx1 == idx2: #ignore if both are same sentences\n",
    "                continue \n",
    "             similarity_matrix[idx1][idx2] = sentence_similarity(sentences[idx1], sentences[idx2])\n",
    "\n",
    "print(\"Smilarity matrix \\n\", similarity_matrix)"
   ]
  },
  {
   "cell_type": "markdown",
   "id": "720ff463-ea27-4c18-8c01-b556b6a3d063",
   "metadata": {},
   "source": [
    "## GET THE PAGERANK SCORES"
   ]
  },
  {
   "cell_type": "code",
   "execution_count": 37,
   "id": "5bb884fb-6b7f-421b-a7bf-99fe05c03794",
   "metadata": {},
   "outputs": [
    {
     "name": "stdout",
     "output_type": "stream",
     "text": [
      "PageRank scores: {0: 0.050440994143809606, 1: 0.050440994143809606, 2: 0.06909064382333219, 3: 0.01028623847637567, 4: 0.06093175450791308, 5: 0.04822947675170616, 6: 0.05245116326559067, 7: 0.05082011624447269, 8: 0.023697268637585867, 9: 0.05934643312840842, 10: 0.06308246678787559, 11: 0.0504128558924508, 12: 0.053640837351319796, 13: 0.023697268637585867, 14: 0.023697268637585867, 15: 0.05002473620131211, 16: 0.05002473620131211, 17: 0.05002473620131211, 18: 0.05481518192707897, 19: 0.04963777807541776, 20: 0.05520705096374459}\n"
     ]
    }
   ],
   "source": [
    "import networkx as nx\n",
    "\n",
    "# Create a graph from the similarity matrix using NetworkX\n",
    "sentence_similarity_graph = nx.from_numpy_array(similarity_matrix)\n",
    "\n",
    "# Calculate the PageRank scores for each node (sentence) in the graph\n",
    "scores = nx.pagerank(sentence_similarity_graph)\n",
    "\n",
    "# Print the PageRank scores\n",
    "print(\"PageRank scores:\", scores)"
   ]
  },
  {
   "cell_type": "markdown",
   "id": "4d90e1eb-c2e9-486b-a72f-6842402de2ab",
   "metadata": {},
   "source": [
    "## SORT SENTENCES BY PAGERANK"
   ]
  },
  {
   "cell_type": "code",
   "execution_count": 38,
   "id": "7a276895-d0fa-44e1-84d6-f04c67de1539",
   "metadata": {},
   "outputs": [
    {
     "name": "stdout",
     "output_type": "stream",
     "text": [
      "Indexes of top ranked sentences in descending order:\n",
      " [(0.06909064382333219, ['SAM', 'I', 'AM']), (0.06308246678787559, ['I', 'WOULD', 'NOT', 'LIKE', 'THEM', 'ANYWHERE']), (0.06093175450791308, ['I', 'DO', 'NOT', 'LIKE', 'THAT', 'SAM-I-AM!']), (0.05934643312840842, ['I', 'WOULD', 'NOT', 'LIKE', 'THEM', 'HERE', 'OR', 'THERE']), (0.05520705096374459, ['I', 'DO', 'NOT', 'LIKE', 'THEM,', 'SAM-I-AM.\\n']), (0.05481518192707897, ['I', 'DO', 'NOT', 'LIKE', 'THEM', 'ANYWHERE']), (0.053640837351319796, ['I', 'DO', 'NOT', 'LIKE', 'THEM,', 'SAM-I-AM']), (0.05245116326559067, ['I', 'DO', 'NOT', 'LIKE', 'THEM,', 'SAM-I-AM']), (0.05082011624447269, ['I', 'DO', 'NOT', 'LIKE', 'GREEN', 'EGGS', 'AND', 'HAM']), (0.050440994143809606, ['I', 'AM', 'SAM']), (0.050440994143809606, ['I', 'AM', 'SAM']), (0.0504128558924508, ['I', 'DO', 'NOT', 'LIKE', 'GREEN', 'EGGS', 'AND', 'HAM']), (0.05002473620131211, ['I', 'DO', 'NOT', 'LIKE', 'THEM', 'WITH', 'A', 'MOUSE']), (0.05002473620131211, ['I', 'DO', 'NOT', 'LIKE', 'THEM', 'IN', 'A', 'HOUSE']), (0.05002473620131211, ['I', 'DO', 'NOT', 'LIKE', 'THEM', 'HERE', 'OR', 'THERE']), (0.04963777807541776, ['I', 'DO', 'NOT', 'LIKE', 'GREEN', 'EGGS', 'AND', 'HAM']), (0.04822947675170616, ['DO', 'WOULD', 'YOU', 'LIKE', 'GREEN', 'EGGS', 'AND', 'HAM?']), (0.023697268637585867, ['WOULD', 'YOU', 'LIKE', 'THEN', 'WITH', 'A', 'MOUSE?']), (0.023697268637585867, ['WOULD', 'YOU', 'LIKE', 'THEM', 'IN', 'A', 'HOUSE?']), (0.023697268637585867, ['WOULD', 'YOU', 'LIKE', 'THEM', 'HERE', 'OR', 'THERE?']), (0.01028623847637567, ['THAT', 'SAM-I-AM!', 'THAT', 'SAM-I-AM!'])]\n"
     ]
    }
   ],
   "source": [
    "#  Sort the sentences based on their PageRank scores in descending order\n",
    "ranked_sentence = sorted(((scores[i], s) for i, s in enumerate(sentences)), reverse=True)\n",
    "\n",
    "# Print the indexes of top-ranked sentences in the order of their importance\n",
    "print(\"Indexes of top ranked sentences in descending order:\\n\", ranked_sentence)"
   ]
  },
  {
   "cell_type": "markdown",
   "id": "fb45db9b-f36b-4efe-ad6a-a0b0b0e2a36a",
   "metadata": {},
   "source": [
    "## PICK THE TOP \"N\" SENTENCES "
   ]
  },
  {
   "cell_type": "code",
   "execution_count": 39,
   "id": "e7cf2924-1f29-4324-bf47-9acfeae3ec1e",
   "metadata": {},
   "outputs": [
    {
     "name": "stdin",
     "output_type": "stream",
     "text": [
      "How many sentences do you want in the summary?  4\n"
     ]
    }
   ],
   "source": [
    "# Step 5 - How many sentences to pick\n",
    "\n",
    "# Prompt the user to input the number of sentences they want in the summary\n",
    "n = int(input(\"How many sentences do you want in the summary? \"))\n",
    "\n",
    "# Initialize an empty list to store the summarized sentences\n",
    "summarize_text = []\n",
    "\n",
    "# Iterate through the top n ranked sentences and join them into a single string\n",
    "for i in range(n):\n",
    "    # Append the joined sentence to the summarize_text list\n",
    "    summarize_text.append(\" \".join(ranked_sentence[i][1]))"
   ]
  },
  {
   "cell_type": "markdown",
   "id": "3b107596-1c13-4e6c-9889-ff41c0722db2",
   "metadata": {},
   "source": [
    "## PRINTING THE SUMMARY"
   ]
  },
  {
   "cell_type": "code",
   "execution_count": 40,
   "id": "8b3268fc-23d6-4c03-98a9-9a32903634be",
   "metadata": {},
   "outputs": [
    {
     "name": "stdout",
     "output_type": "stream",
     "text": [
      "Summarized Text:\n",
      " SAM I AM. I WOULD NOT LIKE THEM ANYWHERE. I DO NOT LIKE THAT SAM-I-AM!. I WOULD NOT LIKE THEM HERE OR THERE\n"
     ]
    }
   ],
   "source": [
    "#  Step 6 - Output the summarized text\n",
    "\n",
    "# Print the summarized text by joining the sentences with a period and a space\n",
    "print(\"Summarized Text:\\n\", \". \".join(summarize_text))"
   ]
  },
  {
   "cell_type": "markdown",
   "id": "4ffb47b6-cca8-474d-a4d6-d966c3d21abb",
   "metadata": {},
   "source": [
    "# <center>TEXT3 SUMMARIZATION</center>\n"
   ]
  },
  {
   "cell_type": "markdown",
   "id": "9475bd69-6e19-4038-82b2-a5b2de112788",
   "metadata": {},
   "source": [
    "## LOADING DATA SET "
   ]
  },
  {
   "cell_type": "code",
   "execution_count": 41,
   "id": "443da6a4-dcad-4b19-a84f-15369d9994af",
   "metadata": {},
   "outputs": [
    {
     "name": "stdout",
     "output_type": "stream",
     "text": [
      "As an institution of higher learning, Sacred Heart University places special emphasis on academic integrity, which is a commitment to the fundamental values of honesty, trust, fairness, respect, and responsibility. Only when these values are widely respected and practiced by all members of the University students, faculty, administrators, and staff can the University maintain a culture that promotes free exploration of knowledge, constructive debate, genuine learning, effective research, fair assessment of student progress, and development of members characters. These aims of the University require that its members exercise mutual responsibilities. At its core, academic integrity is secured by a principled commitment to carry out these responsibilities, not by rules and penalties. Students and faculty should strive to create an academic environment that is honest, fair, and respectful of all. They do this by evaluating others work fairly, by responding to others ideas critically yet courteously, by respecting others intellectual and physical property, and by nurturing the values of academic integrity in all contexts of University life. Appropriate disciplinary action will be taken for violations of academic integrity, including plagiarism, cheating, any use of materials for an assignment or exam that is not permitted by the instructor, and theft or mutilation of intellectual materials or other University equipment. Faculty will assign failing grades for violations of the University policy on academic integrity and students may immediately receive an F for a course in which they commit a violation. Violations of academic integrity are kept on file second violations will bring additional sanctions, up to dismissal from the University. For any disciplinary action, the University affords the student the right of due process in an appeals procedure. All matriculated students will be provided with a full description of the University standards for academic integrity, consequences for violations, and the appeals procedure.\n"
     ]
    }
   ],
   "source": [
    "with open('Text3.txt', 'r') as file:\n",
    "    # Read the entire contents of the file\n",
    "    contents = file.read()\n",
    "\n",
    "# Print the contents of the file\n",
    "print(contents)"
   ]
  },
  {
   "cell_type": "markdown",
   "id": "ad50faf3-2d32-4fe2-a7b6-3147cb1107fd",
   "metadata": {},
   "source": [
    "## OPEN FILE AND SPLIT INTO SENTENCES"
   ]
  },
  {
   "cell_type": "code",
   "execution_count": 42,
   "id": "5833b939-2213-4a94-a8e3-40a1b256d50e",
   "metadata": {},
   "outputs": [
    {
     "name": "stdout",
     "output_type": "stream",
     "text": [
      "As an institution of higher learning, Sacred Heart University places special emphasis on academic integrity, which is a commitment to the fundamental values of honesty, trust, fairness, respect, and responsibility\n",
      "Only when these values are widely respected and practiced by all members of the University students, faculty, administrators, and staff can the University maintain a culture that promotes free exploration of knowledge, constructive debate, genuine learning, effective research, fair assessment of student progress, and development of members characters\n",
      "These aims of the University require that its members exercise mutual responsibilities\n",
      "At its core, academic integrity is secured by a principled commitment to carry out these responsibilities, not by rules and penalties\n",
      "Students and faculty should strive to create an academic environment that is honest, fair, and respectful of all\n",
      "They do this by evaluating others work fairly, by responding to others ideas critically yet courteously, by respecting others intellectual and physical property, and by nurturing the values of academic integrity in all contexts of University life\n",
      "Appropriate disciplinary action will be taken for violations of academic integrity, including plagiarism, cheating, any use of materials for an assignment or exam that is not permitted by the instructor, and theft or mutilation of intellectual materials or other University equipment\n",
      "Faculty will assign failing grades for violations of the University policy on academic integrity and students may immediately receive an F for a course in which they commit a violation\n",
      "Violations of academic integrity are kept on file second violations will bring additional sanctions, up to dismissal from the University\n",
      "For any disciplinary action, the University affords the student the right of due process in an appeals procedure\n",
      "All matriculated students will be provided with a full description of the University standards for academic integrity, consequences for violations, and the appeals procedure.\n"
     ]
    }
   ],
   "source": [
    "#Open the file \"Text1.txt\" in read mode\n",
    "file = open(\"Text3.txt\", \"r\")\n",
    "\n",
    "# Read all lines of the file into a list\n",
    "filedata = file.readlines()\n",
    "\n",
    "# Split the first paragraph into sentences based on the period followed by a space\n",
    "article = filedata[0].split(\". \")  # Assuming each sentence ends with \". \".\n",
    "\n",
    "# Initialize an empty list to store individual sentences\n",
    "sentences = []\n",
    "\n",
    "# Iterate through each sentence in the article\n",
    "for sentence in article:\n",
    "    # Print each sentence\n",
    "    print(sentence)\n",
    "    # Replace non-alphabetic characters with spaces and split the sentence into words\n",
    "    sentences.append(sentence.replace(\"[^a-zA-Z]\", \" \").split(\" \"))"
   ]
  },
  {
   "cell_type": "markdown",
   "id": "157e1585-b753-4321-9ea1-037c9c2c34b8",
   "metadata": {},
   "source": [
    "## OUR DATA: A LIST OF SENTENCES"
   ]
  },
  {
   "cell_type": "code",
   "execution_count": 43,
   "id": "5a42a6b1-89da-42e4-b32b-0722a3e97cf7",
   "metadata": {},
   "outputs": [
    {
     "name": "stdout",
     "output_type": "stream",
     "text": [
      "Sentences are  [['As', 'an', 'institution', 'of', 'higher', 'learning,', 'Sacred', 'Heart', 'University', 'places', 'special', 'emphasis', 'on', 'academic', 'integrity,', 'which', 'is', 'a', 'commitment', 'to', 'the', 'fundamental', 'values', 'of', 'honesty,', 'trust,', 'fairness,', 'respect,', 'and', 'responsibility'], ['Only', 'when', 'these', 'values', 'are', 'widely', 'respected', 'and', 'practiced', 'by', 'all', 'members', 'of', 'the', 'University', 'students,', 'faculty,', 'administrators,', 'and', 'staff', 'can', 'the', 'University', 'maintain', 'a', 'culture', 'that', 'promotes', 'free', 'exploration', 'of', 'knowledge,', 'constructive', 'debate,', 'genuine', 'learning,', 'effective', 'research,', 'fair', 'assessment', 'of', 'student', 'progress,', 'and', 'development', 'of', 'members', 'characters'], ['These', 'aims', 'of', 'the', 'University', 'require', 'that', 'its', 'members', 'exercise', 'mutual', 'responsibilities'], ['At', 'its', 'core,', 'academic', 'integrity', 'is', 'secured', 'by', 'a', 'principled', 'commitment', 'to', 'carry', 'out', 'these', 'responsibilities,', 'not', 'by', 'rules', 'and', 'penalties'], ['Students', 'and', 'faculty', 'should', 'strive', 'to', 'create', 'an', 'academic', 'environment', 'that', 'is', 'honest,', 'fair,', 'and', 'respectful', 'of', 'all'], ['They', 'do', 'this', 'by', 'evaluating', 'others', 'work', 'fairly,', 'by', 'responding', 'to', 'others', 'ideas', 'critically', 'yet', 'courteously,', 'by', 'respecting', 'others', 'intellectual', 'and', 'physical', 'property,', 'and', 'by', 'nurturing', 'the', 'values', 'of', 'academic', 'integrity', 'in', 'all', 'contexts', 'of', 'University', 'life'], ['Appropriate', 'disciplinary', 'action', 'will', 'be', 'taken', 'for', 'violations', 'of', 'academic', 'integrity,', 'including', 'plagiarism,', 'cheating,', 'any', 'use', 'of', 'materials', 'for', 'an', 'assignment', 'or', 'exam', 'that', 'is', 'not', 'permitted', 'by', 'the', 'instructor,', 'and', 'theft', 'or', 'mutilation', 'of', 'intellectual', 'materials', 'or', 'other', 'University', 'equipment'], ['Faculty', 'will', 'assign', 'failing', 'grades', 'for', 'violations', 'of', 'the', 'University', 'policy', 'on', 'academic', 'integrity', 'and', 'students', 'may', 'immediately', 'receive', 'an', 'F', 'for', 'a', 'course', 'in', 'which', 'they', 'commit', 'a', 'violation'], ['Violations', 'of', 'academic', 'integrity', 'are', 'kept', 'on', 'file', 'second', 'violations', 'will', 'bring', 'additional', 'sanctions,', 'up', 'to', 'dismissal', 'from', 'the', 'University'], ['For', 'any', 'disciplinary', 'action,', 'the', 'University', 'affords', 'the', 'student', 'the', 'right', 'of', 'due', 'process', 'in', 'an', 'appeals', 'procedure'], ['All', 'matriculated', 'students', 'will', 'be', 'provided', 'with', 'a', 'full', 'description', 'of', 'the', 'University', 'standards', 'for', 'academic', 'integrity,', 'consequences', 'for', 'violations,', 'and', 'the', 'appeals', 'procedure.']]\n"
     ]
    }
   ],
   "source": [
    "print(\"Sentences are \", sentences)"
   ]
  },
  {
   "cell_type": "markdown",
   "id": "0f4af614-8ca7-4f08-ae3d-984d5c3c40c5",
   "metadata": {},
   "source": [
    "## FUNCTION TO CALCULATE SIMILARITY"
   ]
  },
  {
   "cell_type": "code",
   "execution_count": 44,
   "id": "f2f7cfda-e102-407f-bd02-697a836b4528",
   "metadata": {},
   "outputs": [],
   "source": [
    "def sentence_similarity(sent1, sent2):\n",
    "    # Convert all words to lowercase\n",
    "    sent1 = [w.lower() for w in sent1]\n",
    "    sent2 = [w.lower() for w in sent2]\n",
    "\n",
    "    # Get all unique words from both sentences\n",
    "    all_words = list(set(sent1 + sent2))\n",
    "\n",
    "    # Initialize vectors for both sentences with zeros\n",
    "    vector1 = [0] * len(all_words)\n",
    "    vector2 = [0] * len(all_words)\n",
    "\n",
    "    # Build the vector for the first sentence\n",
    "    for w in sent1:\n",
    "        # Increment the count of the word in the vector\n",
    "        vector1[all_words.index(w)] += 1\n",
    "\n",
    "    # Build the vector for the second sentence\n",
    "    for w in sent2:\n",
    "        # Increment the count of the word in the vector\n",
    "        vector2[all_words.index(w)] += 1\n",
    "        return 1 - cosine_distance(vector1, vector2)"
   ]
  },
  {
   "cell_type": "markdown",
   "id": "23e49c07-b575-40cb-9a4a-b07bbef60161",
   "metadata": {},
   "source": [
    "## CREATING THE SIMILARITY MATRIX"
   ]
  },
  {
   "cell_type": "code",
   "execution_count": 45,
   "id": "f7977324-2fb1-481b-8ecc-8a7eee8c3c26",
   "metadata": {},
   "outputs": [
    {
     "name": "stdout",
     "output_type": "stream",
     "text": [
      "Smilarity matrix \n",
      " [[0.         0.         0.         0.         0.         0.\n",
      "  0.         0.         0.         0.         0.        ]\n",
      " [0.         0.         0.11785113 0.         0.         0.\n",
      "  0.         0.         0.         0.         0.11785113]\n",
      " [0.         0.         0.         0.         0.         0.\n",
      "  0.         0.         0.         0.         0.        ]\n",
      " [0.         0.         0.20851441 0.         0.         0.\n",
      "  0.         0.         0.         0.         0.        ]\n",
      " [0.         0.         0.         0.         0.         0.\n",
      "  0.         0.2236068  0.         0.         0.2236068 ]\n",
      " [0.         0.         0.         0.         0.         0.\n",
      "  0.         0.         0.         0.         0.13018891]\n",
      " [0.         0.         0.         0.         0.         0.\n",
      "  0.         0.         0.13245324 0.26490647 0.        ]\n",
      " [0.         0.         0.         0.         0.17149859 0.17149859\n",
      "  0.         0.         0.17149859 0.34299717 0.        ]\n",
      " [0.         0.         0.         0.         0.         0.\n",
      "  0.         0.         0.         0.         0.        ]\n",
      " [0.         0.         0.         0.         0.         0.\n",
      "  0.         0.         0.         0.         0.        ]\n",
      " [0.         0.         0.         0.         0.18898224 0.\n",
      "  0.         0.         0.         0.37796447 0.        ]]\n"
     ]
    }
   ],
   "source": [
    "similarity_matrix = np.zeros((len(sentences), len(sentences)))\n",
    " \n",
    "for idx1 in range(len(sentences)):\n",
    "        for idx2 in range(len(sentences)):\n",
    "             if idx1 == idx2: #ignore if both are same sentences\n",
    "                continue \n",
    "             similarity_matrix[idx1][idx2] = sentence_similarity(sentences[idx1], sentences[idx2])\n",
    "\n",
    "print(\"Smilarity matrix \\n\", similarity_matrix)"
   ]
  },
  {
   "cell_type": "markdown",
   "id": "39e6e970-b293-4970-a882-a6f2f4fcce90",
   "metadata": {},
   "source": [
    "## GET THE PAGERANK SCORES"
   ]
  },
  {
   "cell_type": "code",
   "execution_count": 46,
   "id": "202749a9-ebf0-45ba-9bb5-93fc4be791c6",
   "metadata": {},
   "outputs": [
    {
     "name": "stdout",
     "output_type": "stream",
     "text": [
      "PageRank scores: {0: 0.014778325123152712, 1: 0.06473966189631138, 2: 0.10188410966652334, 3: 0.07010825321233556, 4: 0.07087929329870699, 5: 0.061555672119093185, 6: 0.0769737262601799, 7: 0.1537134854231534, 8: 0.06271938611808403, 9: 0.17059918223805037, 10: 0.1520489046444091}\n"
     ]
    }
   ],
   "source": [
    "import networkx as nx\n",
    "\n",
    "# Create a graph from the similarity matrix using NetworkX\n",
    "sentence_similarity_graph = nx.from_numpy_array(similarity_matrix)\n",
    "\n",
    "# Calculate the PageRank scores for each node (sentence) in the graph\n",
    "scores = nx.pagerank(sentence_similarity_graph)\n",
    "\n",
    "# Print the PageRank scores\n",
    "print(\"PageRank scores:\", scores)"
   ]
  },
  {
   "cell_type": "markdown",
   "id": "cd63e791-d79d-4950-b7da-ff84d17523e2",
   "metadata": {},
   "source": [
    "## SORT SENTENCES BY PAGERANK"
   ]
  },
  {
   "cell_type": "code",
   "execution_count": 47,
   "id": "2e1aa03e-dff4-4d76-914c-f9be99d71d30",
   "metadata": {},
   "outputs": [
    {
     "name": "stdout",
     "output_type": "stream",
     "text": [
      "Indexes of top ranked sentences in descending order:\n",
      " [(0.17059918223805037, ['For', 'any', 'disciplinary', 'action,', 'the', 'University', 'affords', 'the', 'student', 'the', 'right', 'of', 'due', 'process', 'in', 'an', 'appeals', 'procedure']), (0.1537134854231534, ['Faculty', 'will', 'assign', 'failing', 'grades', 'for', 'violations', 'of', 'the', 'University', 'policy', 'on', 'academic', 'integrity', 'and', 'students', 'may', 'immediately', 'receive', 'an', 'F', 'for', 'a', 'course', 'in', 'which', 'they', 'commit', 'a', 'violation']), (0.1520489046444091, ['All', 'matriculated', 'students', 'will', 'be', 'provided', 'with', 'a', 'full', 'description', 'of', 'the', 'University', 'standards', 'for', 'academic', 'integrity,', 'consequences', 'for', 'violations,', 'and', 'the', 'appeals', 'procedure.']), (0.10188410966652334, ['These', 'aims', 'of', 'the', 'University', 'require', 'that', 'its', 'members', 'exercise', 'mutual', 'responsibilities']), (0.0769737262601799, ['Appropriate', 'disciplinary', 'action', 'will', 'be', 'taken', 'for', 'violations', 'of', 'academic', 'integrity,', 'including', 'plagiarism,', 'cheating,', 'any', 'use', 'of', 'materials', 'for', 'an', 'assignment', 'or', 'exam', 'that', 'is', 'not', 'permitted', 'by', 'the', 'instructor,', 'and', 'theft', 'or', 'mutilation', 'of', 'intellectual', 'materials', 'or', 'other', 'University', 'equipment']), (0.07087929329870699, ['Students', 'and', 'faculty', 'should', 'strive', 'to', 'create', 'an', 'academic', 'environment', 'that', 'is', 'honest,', 'fair,', 'and', 'respectful', 'of', 'all']), (0.07010825321233556, ['At', 'its', 'core,', 'academic', 'integrity', 'is', 'secured', 'by', 'a', 'principled', 'commitment', 'to', 'carry', 'out', 'these', 'responsibilities,', 'not', 'by', 'rules', 'and', 'penalties']), (0.06473966189631138, ['Only', 'when', 'these', 'values', 'are', 'widely', 'respected', 'and', 'practiced', 'by', 'all', 'members', 'of', 'the', 'University', 'students,', 'faculty,', 'administrators,', 'and', 'staff', 'can', 'the', 'University', 'maintain', 'a', 'culture', 'that', 'promotes', 'free', 'exploration', 'of', 'knowledge,', 'constructive', 'debate,', 'genuine', 'learning,', 'effective', 'research,', 'fair', 'assessment', 'of', 'student', 'progress,', 'and', 'development', 'of', 'members', 'characters']), (0.06271938611808403, ['Violations', 'of', 'academic', 'integrity', 'are', 'kept', 'on', 'file', 'second', 'violations', 'will', 'bring', 'additional', 'sanctions,', 'up', 'to', 'dismissal', 'from', 'the', 'University']), (0.061555672119093185, ['They', 'do', 'this', 'by', 'evaluating', 'others', 'work', 'fairly,', 'by', 'responding', 'to', 'others', 'ideas', 'critically', 'yet', 'courteously,', 'by', 'respecting', 'others', 'intellectual', 'and', 'physical', 'property,', 'and', 'by', 'nurturing', 'the', 'values', 'of', 'academic', 'integrity', 'in', 'all', 'contexts', 'of', 'University', 'life']), (0.014778325123152712, ['As', 'an', 'institution', 'of', 'higher', 'learning,', 'Sacred', 'Heart', 'University', 'places', 'special', 'emphasis', 'on', 'academic', 'integrity,', 'which', 'is', 'a', 'commitment', 'to', 'the', 'fundamental', 'values', 'of', 'honesty,', 'trust,', 'fairness,', 'respect,', 'and', 'responsibility'])]\n"
     ]
    }
   ],
   "source": [
    "#  Sort the sentences based on their PageRank scores in descending order\n",
    "ranked_sentence = sorted(((scores[i], s) for i, s in enumerate(sentences)), reverse=True)\n",
    "\n",
    "# Print the indexes of top-ranked sentences in the order of their importance\n",
    "print(\"Indexes of top ranked sentences in descending order:\\n\", ranked_sentence)"
   ]
  },
  {
   "cell_type": "markdown",
   "id": "3cf7abba-5d4c-440b-a22e-fbf67bc6524a",
   "metadata": {},
   "source": [
    "## PICK THE TOP \"N\" SENTENCES "
   ]
  },
  {
   "cell_type": "code",
   "execution_count": 48,
   "id": "3bb33188-7b75-405f-80cd-15b7f6260176",
   "metadata": {},
   "outputs": [
    {
     "name": "stdin",
     "output_type": "stream",
     "text": [
      "How many sentences do you want in the summary?  5\n"
     ]
    }
   ],
   "source": [
    "# Step 5 - How many sentences to pick\n",
    "\n",
    "# Prompt the user to input the number of sentences they want in the summary\n",
    "n = int(input(\"How many sentences do you want in the summary? \"))\n",
    "\n",
    "# Initialize an empty list to store the summarized sentences\n",
    "summarize_text = []\n",
    "\n",
    "# Iterate through the top n ranked sentences and join them into a single string\n",
    "for i in range(n):\n",
    "    # Append the joined sentence to the summarize_text list\n",
    "    summarize_text.append(\" \".join(ranked_sentence[i][1]))"
   ]
  },
  {
   "cell_type": "markdown",
   "id": "1626c79e-347c-406c-be6c-95c611eb22fa",
   "metadata": {},
   "source": [
    "## PRINTING THE SUMMARY"
   ]
  },
  {
   "cell_type": "code",
   "execution_count": 49,
   "id": "1ba64fd6-12b9-4a65-a39c-ae85ded8b0dd",
   "metadata": {},
   "outputs": [
    {
     "name": "stdout",
     "output_type": "stream",
     "text": [
      "Summarized Text:\n",
      " For any disciplinary action, the University affords the student the right of due process in an appeals procedure. Faculty will assign failing grades for violations of the University policy on academic integrity and students may immediately receive an F for a course in which they commit a violation. All matriculated students will be provided with a full description of the University standards for academic integrity, consequences for violations, and the appeals procedure.. These aims of the University require that its members exercise mutual responsibilities. Appropriate disciplinary action will be taken for violations of academic integrity, including plagiarism, cheating, any use of materials for an assignment or exam that is not permitted by the instructor, and theft or mutilation of intellectual materials or other University equipment\n"
     ]
    }
   ],
   "source": [
    "# Step 6 - Output the summarized text\n",
    "\n",
    "# Print the summarized text by joining the sentences with a period and a space\n",
    "print(\"Summarized Text:\\n\", \". \".join(summarize_text))"
   ]
  },
  {
   "cell_type": "markdown",
   "id": "5a306d8a-a8ea-43a4-bb00-0ba71abce2ec",
   "metadata": {},
   "source": [
    "# <center>TEXT4 SUMMARIZATION</center>"
   ]
  },
  {
   "cell_type": "markdown",
   "id": "e3fbd926-b12a-443d-b940-01d0ac2100d0",
   "metadata": {},
   "source": [
    "## LOADING DATA SET "
   ]
  },
  {
   "cell_type": "code",
   "execution_count": 51,
   "id": "353d9b9b-4aa3-4499-8d26-c0529f783d26",
   "metadata": {},
   "outputs": [
    {
     "name": "stdout",
     "output_type": "stream",
     "text": [
      "Imagine there's no heaven. It's easy if you try. No hell below us. Above us, only sky. Imagine all the people livin' for today. Imagine there's no countries. It isn't hard to do. Nothing to kill or die for and no religion, too. Imagine all the people livin' life in peace. You may say I'm a dreamer but I'm not the only one. I hope someday you'll join us and the world will be as one. Imagine no possessions. I wonder if you can. No need for greed or hunger. A brotherhood of man. Imagine all the people sharing all the world. \n",
      " \n"
     ]
    }
   ],
   "source": [
    "with open('Text4.txt', 'r') as file:\n",
    "    # Read the entire contents of the file\n",
    "    contents = file.read()\n",
    "\n",
    "# Print the contents of the file\n",
    "print(contents)"
   ]
  },
  {
   "cell_type": "markdown",
   "id": "0aabaf6d-b73f-4693-8203-95de1b634386",
   "metadata": {},
   "source": [
    "## OPEN FILE AND SPLIT INTO SENTENCES"
   ]
  },
  {
   "cell_type": "code",
   "execution_count": 52,
   "id": "cd134101-e1e3-4483-8cef-6c87fd16ec2b",
   "metadata": {},
   "outputs": [
    {
     "name": "stdout",
     "output_type": "stream",
     "text": [
      "Imagine there's no heaven\n",
      "It's easy if you try\n",
      "No hell below us\n",
      "Above us, only sky\n",
      "Imagine all the people livin' for today\n",
      "Imagine there's no countries\n",
      "It isn't hard to do\n",
      "Nothing to kill or die for and no religion, too\n",
      "Imagine all the people livin' life in peace\n",
      "You may say I'm a dreamer but I'm not the only one\n",
      "I hope someday you'll join us and the world will be as one\n",
      "Imagine no possessions\n",
      "I wonder if you can\n",
      "No need for greed or hunger\n",
      "A brotherhood of man\n",
      "Imagine all the people sharing all the world\n",
      "\n",
      "\n"
     ]
    }
   ],
   "source": [
    "# Open the file \"Text1.txt\" in read mode\n",
    "file = open(\"Text4.txt\", \"r\")\n",
    "\n",
    "# Read all lines of the file into a list\n",
    "filedata = file.readlines()\n",
    "\n",
    "# Split the first paragraph into sentences based on the period followed by a space\n",
    "article = filedata[0].split(\". \")  # Assuming each sentence ends with \". \".\n",
    "\n",
    "# Initialize an empty list to store individual sentences\n",
    "sentences = []\n",
    "\n",
    "# Iterate through each sentence in the article\n",
    "for sentence in article:\n",
    "    # Print each sentence\n",
    "    print(sentence)\n",
    "    # Replace non-alphabetic characters with spaces and split the sentence into words\n",
    "    sentences.append(sentence.replace(\"[^a-zA-Z]\", \" \").split(\" \"))"
   ]
  },
  {
   "cell_type": "markdown",
   "id": "e9ae3064-c05f-44c5-91cd-d50136f56b8d",
   "metadata": {},
   "source": [
    "## OUR DATA: A LIST OF SENTENCES"
   ]
  },
  {
   "cell_type": "code",
   "execution_count": 53,
   "id": "f8254a7f-bd58-407e-8f08-95d5c64d4638",
   "metadata": {},
   "outputs": [
    {
     "name": "stdout",
     "output_type": "stream",
     "text": [
      "Sentences are  [['Imagine', \"there's\", 'no', 'heaven'], [\"It's\", 'easy', 'if', 'you', 'try'], ['No', 'hell', 'below', 'us'], ['Above', 'us,', 'only', 'sky'], ['Imagine', 'all', 'the', 'people', \"livin'\", 'for', 'today'], ['Imagine', \"there's\", 'no', 'countries'], ['It', \"isn't\", 'hard', 'to', 'do'], ['Nothing', 'to', 'kill', 'or', 'die', 'for', 'and', 'no', 'religion,', 'too'], ['Imagine', 'all', 'the', 'people', \"livin'\", 'life', 'in', 'peace'], ['You', 'may', 'say', \"I'm\", 'a', 'dreamer', 'but', \"I'm\", 'not', 'the', 'only', 'one'], ['I', 'hope', 'someday', \"you'll\", 'join', 'us', 'and', 'the', 'world', 'will', 'be', 'as', 'one'], ['Imagine', 'no', 'possessions'], ['I', 'wonder', 'if', 'you', 'can'], ['No', 'need', 'for', 'greed', 'or', 'hunger'], ['A', 'brotherhood', 'of', 'man'], ['Imagine', 'all', 'the', 'people', 'sharing', 'all', 'the', 'world'], ['\\n']]\n"
     ]
    }
   ],
   "source": [
    "print(\"Sentences are \", sentences)"
   ]
  },
  {
   "cell_type": "markdown",
   "id": "b825a823-5d65-460f-928a-4bad963f5d4b",
   "metadata": {},
   "source": [
    "## FUNCTION TO CALCULATE SIMILARITY"
   ]
  },
  {
   "cell_type": "code",
   "execution_count": 54,
   "id": "a03a648f-beea-42d7-aba0-ed08f4f8f7fd",
   "metadata": {},
   "outputs": [],
   "source": [
    "def sentence_similarity(sent1, sent2):\n",
    "    # Convert all words to lowercase\n",
    "    sent1 = [w.lower() for w in sent1]\n",
    "    sent2 = [w.lower() for w in sent2]\n",
    "\n",
    "    # Get all unique words from both sentences\n",
    "    all_words = list(set(sent1 + sent2))\n",
    "\n",
    "    # Initialize vectors for both sentences with zeros\n",
    "    vector1 = [0] * len(all_words)\n",
    "    vector2 = [0] * len(all_words)\n",
    "\n",
    "    # Build the vector for the first sentence\n",
    "    for w in sent1:\n",
    "        # Increment the count of the word in the vector\n",
    "        vector1[all_words.index(w)] += 1\n",
    "\n",
    "    # Build the vector for the second sentence\n",
    "    for w in sent2:\n",
    "        # Increment the count of the word in the vector\n",
    "        vector2[all_words.index(w)] += 1\n",
    "        return 1 - cosine_distance(vector1, vector2)"
   ]
  },
  {
   "cell_type": "markdown",
   "id": "641e7fcd-851c-460e-9619-8f26afbcd06b",
   "metadata": {},
   "source": [
    "## CREATING THE SIMILARITY MATRIX"
   ]
  },
  {
   "cell_type": "code",
   "execution_count": 55,
   "id": "8c6b4a82-dcc0-4ec5-b297-1b6748d84ce6",
   "metadata": {},
   "outputs": [
    {
     "name": "stdout",
     "output_type": "stream",
     "text": [
      "Smilarity matrix \n",
      " [[0.         0.         0.5        0.         0.5        0.5\n",
      "  0.         0.         0.5        0.         0.         0.5\n",
      "  0.         0.5        0.         0.5        0.        ]\n",
      " [0.         0.         0.         0.         0.         0.\n",
      "  0.         0.         0.         0.4472136  0.         0.\n",
      "  0.         0.         0.         0.         0.        ]\n",
      " [0.         0.         0.         0.         0.         0.\n",
      "  0.         0.         0.         0.         0.         0.\n",
      "  0.         0.5        0.         0.         0.        ]\n",
      " [0.         0.         0.         0.         0.         0.\n",
      "  0.         0.         0.         0.         0.         0.\n",
      "  0.         0.         0.         0.         0.        ]\n",
      " [0.37796447 0.         0.         0.         0.         0.37796447\n",
      "  0.         0.         0.37796447 0.         0.         0.37796447\n",
      "  0.         0.         0.         0.37796447 0.        ]\n",
      " [0.5        0.         0.5        0.         0.5        0.\n",
      "  0.         0.         0.5        0.         0.         0.5\n",
      "  0.         0.5        0.         0.5        0.        ]\n",
      " [0.         0.         0.         0.         0.         0.\n",
      "  0.         0.         0.         0.         0.         0.\n",
      "  0.         0.         0.         0.         0.        ]\n",
      " [0.         0.         0.31622777 0.         0.         0.\n",
      "  0.         0.         0.         0.         0.         0.\n",
      "  0.         0.31622777 0.         0.         0.        ]\n",
      " [0.35355339 0.         0.         0.         0.35355339 0.35355339\n",
      "  0.         0.         0.         0.         0.         0.35355339\n",
      "  0.         0.         0.         0.35355339 0.        ]\n",
      " [0.         0.         0.         0.         0.         0.\n",
      "  0.         0.         0.         0.         0.         0.\n",
      "  0.         0.         0.26726124 0.         0.        ]\n",
      " [0.         0.         0.         0.         0.         0.\n",
      "  0.         0.         0.         0.         0.         0.\n",
      "  0.2773501  0.         0.         0.         0.        ]\n",
      " [0.57735027 0.         0.57735027 0.         0.57735027 0.57735027\n",
      "  0.         0.         0.57735027 0.         0.         0.\n",
      "  0.         0.57735027 0.         0.57735027 0.        ]\n",
      " [0.         0.         0.         0.         0.         0.\n",
      "  0.         0.         0.         0.4472136  0.4472136  0.\n",
      "  0.         0.         0.         0.         0.        ]\n",
      " [0.         0.         0.40824829 0.         0.         0.\n",
      "  0.         0.         0.         0.         0.         0.\n",
      "  0.         0.         0.         0.         0.        ]\n",
      " [0.         0.         0.         0.         0.         0.\n",
      "  0.         0.         0.         0.         0.         0.\n",
      "  0.         0.         0.         0.         0.        ]\n",
      " [0.28867513 0.         0.         0.         0.28867513 0.28867513\n",
      "  0.         0.         0.28867513 0.         0.         0.28867513\n",
      "  0.         0.         0.         0.         0.        ]\n",
      " [0.         0.         0.         0.         0.         0.\n",
      "  0.         0.         0.         0.         0.         0.\n",
      "  0.         0.         0.         0.         0.        ]]\n"
     ]
    }
   ],
   "source": [
    "similarity_matrix = np.zeros((len(sentences), len(sentences)))\n",
    " \n",
    "for idx1 in range(len(sentences)):\n",
    "        for idx2 in range(len(sentences)):\n",
    "             if idx1 == idx2: #ignore if both are same sentences\n",
    "                continue \n",
    "             similarity_matrix[idx1][idx2] = sentence_similarity(sentences[idx1], sentences[idx2])\n",
    "\n",
    "print(\"Smilarity matrix \\n\", similarity_matrix)"
   ]
  },
  {
   "cell_type": "markdown",
   "id": "bae0025a-da1a-4e1f-95e7-ea8430776f0e",
   "metadata": {},
   "source": [
    "## GET THE PAGERANK SCORES"
   ]
  },
  {
   "cell_type": "code",
   "execution_count": 56,
   "id": "0f7dfd28-ddb7-46c1-a77a-52702eecffef",
   "metadata": {},
   "outputs": [
    {
     "name": "stdout",
     "output_type": "stream",
     "text": [
      "PageRank scores: {0: 0.08907996055745462, 1: 0.049895583399628525, 2: 0.07074601034623529, 3: 0.010380622837370245, 4: 0.06260562329203608, 5: 0.09222422489872976, 6: 0.010380622837370245, 7: 0.026903220283897585, 8: 0.05831675342595796, 9: 0.12075281066763677, 10: 0.04944844939503198, 11: 0.10606411143646131, 12: 0.09192858926564168, 13: 0.07074601034623529, 14: 0.03399532851773593, 15: 0.04615145565520675, 16: 0.010380622837370245}\n"
     ]
    }
   ],
   "source": [
    "import networkx as nx\n",
    "\n",
    "# Create a graph from the similarity matrix using NetworkX\n",
    "sentence_similarity_graph = nx.from_numpy_array(similarity_matrix)\n",
    "\n",
    "# Calculate the PageRank scores for each node (sentence) in the graph\n",
    "scores = nx.pagerank(sentence_similarity_graph)\n",
    "\n",
    "# Print the PageRank scores\n",
    "print(\"PageRank scores:\", scores)"
   ]
  },
  {
   "cell_type": "markdown",
   "id": "17db3d31-fd37-43d0-bb96-43e8fae7b21c",
   "metadata": {},
   "source": [
    "## SORT SENTENCES BY PAGERANK"
   ]
  },
  {
   "cell_type": "code",
   "execution_count": 57,
   "id": "ca2fdd44-9f2c-459a-b042-19c9d011cfd7",
   "metadata": {},
   "outputs": [
    {
     "name": "stdout",
     "output_type": "stream",
     "text": [
      "Indexes of top ranked sentences in descending order:\n",
      " [(0.12075281066763677, ['You', 'may', 'say', \"I'm\", 'a', 'dreamer', 'but', \"I'm\", 'not', 'the', 'only', 'one']), (0.10606411143646131, ['Imagine', 'no', 'possessions']), (0.09222422489872976, ['Imagine', \"there's\", 'no', 'countries']), (0.09192858926564168, ['I', 'wonder', 'if', 'you', 'can']), (0.08907996055745462, ['Imagine', \"there's\", 'no', 'heaven']), (0.07074601034623529, ['No', 'need', 'for', 'greed', 'or', 'hunger']), (0.07074601034623529, ['No', 'hell', 'below', 'us']), (0.06260562329203608, ['Imagine', 'all', 'the', 'people', \"livin'\", 'for', 'today']), (0.05831675342595796, ['Imagine', 'all', 'the', 'people', \"livin'\", 'life', 'in', 'peace']), (0.049895583399628525, [\"It's\", 'easy', 'if', 'you', 'try']), (0.04944844939503198, ['I', 'hope', 'someday', \"you'll\", 'join', 'us', 'and', 'the', 'world', 'will', 'be', 'as', 'one']), (0.04615145565520675, ['Imagine', 'all', 'the', 'people', 'sharing', 'all', 'the', 'world']), (0.03399532851773593, ['A', 'brotherhood', 'of', 'man']), (0.026903220283897585, ['Nothing', 'to', 'kill', 'or', 'die', 'for', 'and', 'no', 'religion,', 'too']), (0.010380622837370245, ['It', \"isn't\", 'hard', 'to', 'do']), (0.010380622837370245, ['Above', 'us,', 'only', 'sky']), (0.010380622837370245, ['\\n'])]\n"
     ]
    }
   ],
   "source": [
    "# Sort the sentences based on their PageRank scores in descending order\n",
    "ranked_sentence = sorted(((scores[i], s) for i, s in enumerate(sentences)), reverse=True)\n",
    "\n",
    "# Print the indexes of top-ranked sentences in the order of their importance\n",
    "print(\"Indexes of top ranked sentences in descending order:\\n\", ranked_sentence)"
   ]
  },
  {
   "cell_type": "markdown",
   "id": "8d392d14-6545-4714-a511-c7bf20615c7f",
   "metadata": {},
   "source": [
    "## PICK THE TOP \"N\" SENTENCES "
   ]
  },
  {
   "cell_type": "code",
   "execution_count": 58,
   "id": "ebafbfe4-3bb1-4487-b47d-c2fd58ebdffb",
   "metadata": {},
   "outputs": [
    {
     "name": "stdin",
     "output_type": "stream",
     "text": [
      "How many sentences do you want in the summary?  6\n"
     ]
    }
   ],
   "source": [
    "# Step 5 - How many sentences to pick\n",
    "\n",
    "# Prompt the user to input the number of sentences they want in the summary\n",
    "n = int(input(\"How many sentences do you want in the summary? \"))\n",
    "\n",
    "# Initialize an empty list to store the summarized sentences\n",
    "summarize_text = []\n",
    "\n",
    "# Iterate through the top n ranked sentences and join them into a single string\n",
    "for i in range(n):\n",
    "    # Append the joined sentence to the summarize_text list\n",
    "    summarize_text.append(\" \".join(ranked_sentence[i][1]))"
   ]
  },
  {
   "cell_type": "markdown",
   "id": "3b1f87c2-6f35-4c54-b116-df3c32c902e6",
   "metadata": {},
   "source": [
    "## PRINTING THE SUMMARY"
   ]
  },
  {
   "cell_type": "code",
   "execution_count": 59,
   "id": "383292ca-b273-4bd5-ae9c-4247679c3941",
   "metadata": {},
   "outputs": [
    {
     "name": "stdout",
     "output_type": "stream",
     "text": [
      "Summarized Text:\n",
      " You may say I'm a dreamer but I'm not the only one. Imagine no possessions. Imagine there's no countries. I wonder if you can. Imagine there's no heaven. No need for greed or hunger\n"
     ]
    }
   ],
   "source": [
    "# Step 6 - Output the summarized text\n",
    "\n",
    "# Print the summarized text by joining the sentences with a period and a space\n",
    "print(\"Summarized Text:\\n\", \". \".join(summarize_text))"
   ]
  },
  {
   "cell_type": "markdown",
   "id": "442ef11d-9214-4e17-8a21-ef62b7db6088",
   "metadata": {},
   "source": [
    "# <center>TEXT5 SUMMARIZATION</center>"
   ]
  },
  {
   "cell_type": "markdown",
   "id": "ab38c442-a21d-466c-95e6-5ecc599c42ee",
   "metadata": {},
   "source": [
    "# LOADING DATA SET"
   ]
  },
  {
   "cell_type": "code",
   "execution_count": 60,
   "id": "8e8d3148-ceb8-4116-9bcf-96cc9670f4be",
   "metadata": {},
   "outputs": [
    {
     "name": "stdout",
     "output_type": "stream",
     "text": [
      "In an attempt to build an AI-ready workforce, Microsoft announced Intelligent Cloud Hub which has been launched to empower the next generation of students with AI-ready skills. Envisioned as a three-year collaborative program, Intelligent Cloud Hub will support around 100 institutions with AI infrastructure, course content and curriculum, developer support, development tools and give students access to cloud and AI services. As part of the program, the Redmond giant which wants to expand its reach and is planning to build a strong developer ecosystem in India with the program will set up the core AI infrastructure and IoT Hub for the selected campuses. The company will provide AI development tools and Azure AI services such as Microsoft Cognitive Services, Bot Services and Azure Machine Learning.According to Manish Prakash, Country General Manager-PS, Health and Education, Microsoft India, said, \"With AI being the defining technology of our time, it is transIn an attempt to build an AI-ready workforce, Microsoft announced Intelligent Cloud Hub which has been launched to empower the next generation of students with AI-ready skills. Envisioned as a three-year collaborative program, Intelligent Cloud Hub will support around 100 institutions with AI infrastructure, course content and curriculum, developer support, development tools and give students access to cloud and AI services. As part of the program, the Redmond giant which wants to expand its reach and is planning to build a strong developer ecosystem in India with the program will set up the core AI infrastructure and IoT Hub for the selected campuses. The company will provide AI development tools and Azure AI services such as Microsoft Cognitive Services, Bot Services and Azure Machine Learning.According to Manish Prakash, Country General Manager-PS, Health and Education, Microsoft India, said, \"With AI being the defining technology of our time, it is transforming lives and industry and the jobs of tomorrow will require a different skillset. This will require more collaborations and training and working with AI. Thatâ€™s why it has become more critical than ever for educational institutions to integrate new cloud and AI technologies. The program is an attempt to ramp up the institutional set-up and build capabilities among the educators to educate the workforce of tomorrow.\" The program aims to build up the cognitive skills and in-depth understanding of developing intelligent cloud connected solutions for applications across industry. Earlier in April this year, the company announced Microsoft Professional Program In AI as a learning track open to the public. The program was developed to provide job ready skills to programmers who wanted to hone their skills in AI and data science with a series of online courses which featured hands-on labs and expert instructors as well. This program also included developer-focused AI school that provided a bunch of assets to help build AI skills.\n"
     ]
    }
   ],
   "source": [
    "with open('Text5.txt', 'r') as file:\n",
    "    # Read the entire contents of the file\n",
    "    contents = file.read()\n",
    "\n",
    "# Print the contents of the file\n",
    "print(contents)"
   ]
  },
  {
   "cell_type": "markdown",
   "id": "135f283a-a81e-40c2-9e7a-603909160ef7",
   "metadata": {},
   "source": [
    "## OPEN FILE AND SPLIT INTO SENTENCES"
   ]
  },
  {
   "cell_type": "code",
   "execution_count": 61,
   "id": "f16c6f3a-2dc1-4874-8465-6d2508a0f105",
   "metadata": {},
   "outputs": [
    {
     "name": "stdout",
     "output_type": "stream",
     "text": [
      "In an attempt to build an AI-ready workforce, Microsoft announced Intelligent Cloud Hub which has been launched to empower the next generation of students with AI-ready skills\n",
      "Envisioned as a three-year collaborative program, Intelligent Cloud Hub will support around 100 institutions with AI infrastructure, course content and curriculum, developer support, development tools and give students access to cloud and AI services\n",
      "As part of the program, the Redmond giant which wants to expand its reach and is planning to build a strong developer ecosystem in India with the program will set up the core AI infrastructure and IoT Hub for the selected campuses\n",
      "The company will provide AI development tools and Azure AI services such as Microsoft Cognitive Services, Bot Services and Azure Machine Learning.According to Manish Prakash, Country General Manager-PS, Health and Education, Microsoft India, said, \"With AI being the defining technology of our time, it is transIn an attempt to build an AI-ready workforce, Microsoft announced Intelligent Cloud Hub which has been launched to empower the next generation of students with AI-ready skills\n",
      "Envisioned as a three-year collaborative program, Intelligent Cloud Hub will support around 100 institutions with AI infrastructure, course content and curriculum, developer support, development tools and give students access to cloud and AI services\n",
      "As part of the program, the Redmond giant which wants to expand its reach and is planning to build a strong developer ecosystem in India with the program will set up the core AI infrastructure and IoT Hub for the selected campuses\n",
      "The company will provide AI development tools and Azure AI services such as Microsoft Cognitive Services, Bot Services and Azure Machine Learning.According to Manish Prakash, Country General Manager-PS, Health and Education, Microsoft India, said, \"With AI being the defining technology of our time, it is transforming lives and industry and the jobs of tomorrow will require a different skillset\n",
      "This will require more collaborations and training and working with AI\n",
      "Thatâ€™s why it has become more critical than ever for educational institutions to integrate new cloud and AI technologies\n",
      "The program is an attempt to ramp up the institutional set-up and build capabilities among the educators to educate the workforce of tomorrow.\" The program aims to build up the cognitive skills and in-depth understanding of developing intelligent cloud connected solutions for applications across industry\n",
      "Earlier in April this year, the company announced Microsoft Professional Program In AI as a learning track open to the public\n",
      "The program was developed to provide job ready skills to programmers who wanted to hone their skills in AI and data science with a series of online courses which featured hands-on labs and expert instructors as well\n",
      "This program also included developer-focused AI school that provided a bunch of assets to help build AI skills.\n"
     ]
    }
   ],
   "source": [
    "# Open the file \"Text1.txt\" in read mode\n",
    "file = open(\"Text5.txt\", \"r\")\n",
    "\n",
    "# Read all lines of the file into a list\n",
    "filedata = file.readlines()\n",
    "\n",
    "# Split the first paragraph into sentences based on the period followed by a space\n",
    "article = filedata[0].split(\". \")  # Assuming each sentence ends with \". \".\n",
    "\n",
    "# Initialize an empty list to store individual sentences\n",
    "sentences = []\n",
    "\n",
    "# Iterate through each sentence in the article\n",
    "for sentence in article:\n",
    "    # Print each sentence\n",
    "    print(sentence)\n",
    "    # Replace non-alphabetic characters with spaces and split the sentence into words\n",
    "    sentences.append(sentence.replace(\"[^a-zA-Z]\", \" \").split(\" \"))"
   ]
  },
  {
   "cell_type": "markdown",
   "id": "f191bed2-4311-4abf-ad61-35c0a5aa3a70",
   "metadata": {},
   "source": [
    "## OUR DATA: A LIST OF SENTENCES"
   ]
  },
  {
   "cell_type": "code",
   "execution_count": 62,
   "id": "c30479b7-c3bd-4eb8-bba6-3f8fa07d6166",
   "metadata": {},
   "outputs": [
    {
     "name": "stdout",
     "output_type": "stream",
     "text": [
      "Sentences are  [['In', 'an', 'attempt', 'to', 'build', 'an', 'AI-ready', 'workforce,', 'Microsoft', 'announced', 'Intelligent', 'Cloud', 'Hub', 'which', 'has', 'been', 'launched', 'to', 'empower', 'the', 'next', 'generation', 'of', 'students', 'with', 'AI-ready', 'skills'], ['Envisioned', 'as', 'a', 'three-year', 'collaborative', 'program,', 'Intelligent', 'Cloud', 'Hub', 'will', 'support', 'around', '100', 'institutions', 'with', 'AI', 'infrastructure,', 'course', 'content', 'and', 'curriculum,', 'developer', 'support,', 'development', 'tools', 'and', 'give', 'students', 'access', 'to', 'cloud', 'and', 'AI', 'services'], ['As', 'part', 'of', 'the', 'program,', 'the', 'Redmond', 'giant', 'which', 'wants', 'to', 'expand', 'its', 'reach', 'and', 'is', 'planning', 'to', 'build', 'a', 'strong', 'developer', 'ecosystem', 'in', 'India', 'with', 'the', 'program', 'will', 'set', 'up', 'the', 'core', 'AI', 'infrastructure', 'and', 'IoT', 'Hub', 'for', 'the', 'selected', 'campuses'], ['The', 'company', 'will', 'provide', 'AI', 'development', 'tools', 'and', 'Azure', 'AI', 'services', 'such', 'as', 'Microsoft', 'Cognitive', 'Services,', 'Bot', 'Services', 'and', 'Azure', 'Machine', 'Learning.According', 'to', 'Manish', 'Prakash,', 'Country', 'General', 'Manager-PS,', 'Health', 'and', 'Education,', 'Microsoft', 'India,', 'said,', '\"With', 'AI', 'being', 'the', 'defining', 'technology', 'of', 'our', 'time,', 'it', 'is', 'transIn', 'an', 'attempt', 'to', 'build', 'an', 'AI-ready', 'workforce,', 'Microsoft', 'announced', 'Intelligent', 'Cloud', 'Hub', 'which', 'has', 'been', 'launched', 'to', 'empower', 'the', 'next', 'generation', 'of', 'students', 'with', 'AI-ready', 'skills'], ['Envisioned', 'as', 'a', 'three-year', 'collaborative', 'program,', 'Intelligent', 'Cloud', 'Hub', 'will', 'support', 'around', '100', 'institutions', 'with', 'AI', 'infrastructure,', 'course', 'content', 'and', 'curriculum,', 'developer', 'support,', 'development', 'tools', 'and', 'give', 'students', 'access', 'to', 'cloud', 'and', 'AI', 'services'], ['As', 'part', 'of', 'the', 'program,', 'the', 'Redmond', 'giant', 'which', 'wants', 'to', 'expand', 'its', 'reach', 'and', 'is', 'planning', 'to', 'build', 'a', 'strong', 'developer', 'ecosystem', 'in', 'India', 'with', 'the', 'program', 'will', 'set', 'up', 'the', 'core', 'AI', 'infrastructure', 'and', 'IoT', 'Hub', 'for', 'the', 'selected', 'campuses'], ['The', 'company', 'will', 'provide', 'AI', 'development', 'tools', 'and', 'Azure', 'AI', 'services', 'such', 'as', 'Microsoft', 'Cognitive', 'Services,', 'Bot', 'Services', 'and', 'Azure', 'Machine', 'Learning.According', 'to', 'Manish', 'Prakash,', 'Country', 'General', 'Manager-PS,', 'Health', 'and', 'Education,', 'Microsoft', 'India,', 'said,', '\"With', 'AI', 'being', 'the', 'defining', 'technology', 'of', 'our', 'time,', 'it', 'is', 'transforming', 'lives', 'and', 'industry', 'and', 'the', 'jobs', 'of', 'tomorrow', 'will', 'require', 'a', 'different', 'skillset'], ['This', 'will', 'require', 'more', 'collaborations', 'and', 'training', 'and', 'working', 'with', 'AI'], ['Thatâ€™s', 'why', 'it', 'has', 'become', 'more', 'critical', 'than', 'ever', 'for', 'educational', 'institutions', 'to', 'integrate', 'new', 'cloud', 'and', 'AI', 'technologies'], ['The', 'program', 'is', 'an', 'attempt', 'to', 'ramp', 'up', 'the', 'institutional', 'set-up', 'and', 'build', 'capabilities', 'among', 'the', 'educators', 'to', 'educate', 'the', 'workforce', 'of', 'tomorrow.\"', 'The', 'program', 'aims', 'to', 'build', 'up', 'the', 'cognitive', 'skills', 'and', 'in-depth', 'understanding', 'of', 'developing', 'intelligent', 'cloud', 'connected', 'solutions', 'for', 'applications', 'across', 'industry'], ['Earlier', 'in', 'April', 'this', 'year,', 'the', 'company', 'announced', 'Microsoft', 'Professional', 'Program', 'In', 'AI', 'as', 'a', 'learning', 'track', 'open', 'to', 'the', 'public'], ['The', 'program', 'was', 'developed', 'to', 'provide', 'job', 'ready', 'skills', 'to', 'programmers', 'who', 'wanted', 'to', 'hone', 'their', 'skills', 'in', 'AI', 'and', 'data', 'science', 'with', 'a', 'series', 'of', 'online', 'courses', 'which', 'featured', 'hands-on', 'labs', 'and', 'expert', 'instructors', 'as', 'well'], ['This', 'program', 'also', 'included', 'developer-focused', 'AI', 'school', 'that', 'provided', 'a', 'bunch', 'of', 'assets', 'to', 'help', 'build', 'AI', 'skills.']]\n"
     ]
    }
   ],
   "source": [
    "print(\"Sentences are \", sentences)"
   ]
  },
  {
   "cell_type": "markdown",
   "id": "45c34c0c-1c1c-4e86-996b-3c6ea90f8e56",
   "metadata": {},
   "source": [
    "## FUNCTION TO CALCULATE SIMILARITY"
   ]
  },
  {
   "cell_type": "code",
   "execution_count": 63,
   "id": "26619faf-12b4-49f9-bbdb-334408246302",
   "metadata": {},
   "outputs": [],
   "source": [
    "def sentence_similarity(sent1, sent2):\n",
    "    # Convert all words to lowercase\n",
    "    sent1 = [w.lower() for w in sent1]\n",
    "    sent2 = [w.lower() for w in sent2]\n",
    "\n",
    "    # Get all unique words from both sentences\n",
    "    all_words = list(set(sent1 + sent2))\n",
    "\n",
    "    # Initialize vectors for both sentences with zeros\n",
    "    vector1 = [0] * len(all_words)\n",
    "    vector2 = [0] * len(all_words)\n",
    "\n",
    "    # Build the vector for the first sentence\n",
    "    for w in sent1:\n",
    "        # Increment the count of the word in the vector\n",
    "        vector1[all_words.index(w)] += 1\n",
    "\n",
    "    # Build the vector for the second sentence\n",
    "    for w in sent2:\n",
    "        # Increment the count of the word in the vector\n",
    "        vector2[all_words.index(w)] += 1\n",
    "        return 1 - cosine_distance(vector1, vector2)"
   ]
  },
  {
   "cell_type": "markdown",
   "id": "a060970d-3d88-44c8-bda3-c4b499f7be66",
   "metadata": {},
   "source": [
    "## CREATING THE SIMILARITY MATRIX"
   ]
  },
  {
   "cell_type": "code",
   "execution_count": 64,
   "id": "5877a867-69f9-4a75-928d-d3af4f6b56c2",
   "metadata": {},
   "outputs": [
    {
     "name": "stdout",
     "output_type": "stream",
     "text": [
      "Smilarity matrix \n",
      " [[0.         0.         0.         0.17407766 0.         0.\n",
      "  0.17407766 0.         0.         0.17407766 0.         0.17407766\n",
      "  0.        ]\n",
      " [0.         0.         0.15075567 0.         0.15075567 0.15075567\n",
      "  0.         0.         0.         0.         0.         0.\n",
      "  0.        ]\n",
      " [0.12309149 0.         0.         0.61545745 0.         0.12309149\n",
      "  0.61545745 0.         0.         0.61545745 0.         0.61545745\n",
      "  0.        ]\n",
      " [0.         0.         0.09449112 0.         0.         0.09449112\n",
      "  0.28347335 0.         0.         0.28347335 0.         0.28347335\n",
      "  0.        ]\n",
      " [0.         0.15075567 0.15075567 0.         0.         0.15075567\n",
      "  0.         0.         0.         0.         0.         0.\n",
      "  0.        ]\n",
      " [0.12309149 0.         0.12309149 0.61545745 0.         0.\n",
      "  0.61545745 0.         0.         0.61545745 0.         0.61545745\n",
      "  0.        ]\n",
      " [0.         0.         0.09950372 0.29851116 0.         0.09950372\n",
      "  0.         0.         0.         0.29851116 0.         0.29851116\n",
      "  0.        ]\n",
      " [0.         0.         0.         0.         0.         0.\n",
      "  0.         0.         0.         0.         0.         0.\n",
      "  0.2773501 ]\n",
      " [0.         0.         0.         0.         0.         0.\n",
      "  0.         0.         0.         0.         0.         0.\n",
      "  0.        ]\n",
      " [0.         0.         0.         0.6289709  0.         0.\n",
      "  0.6289709  0.         0.         0.         0.         0.6289709\n",
      "  0.        ]\n",
      " [0.4        0.         0.2        0.4        0.         0.2\n",
      "  0.4        0.2        0.         0.4        0.         0.4\n",
      "  0.2       ]\n",
      " [0.14586499 0.         0.14586499 0.14586499 0.         0.14586499\n",
      "  0.14586499 0.         0.         0.14586499 0.         0.\n",
      "  0.        ]\n",
      " [0.         0.         0.         0.         0.         0.\n",
      "  0.         0.2236068  0.         0.         0.         0.\n",
      "  0.        ]]\n"
     ]
    }
   ],
   "source": [
    "similarity_matrix = np.zeros((len(sentences), len(sentences)))\n",
    " \n",
    "for idx1 in range(len(sentences)):\n",
    "        for idx2 in range(len(sentences)):\n",
    "             if idx1 == idx2: #ignore if both are same sentences\n",
    "                continue \n",
    "             similarity_matrix[idx1][idx2] = sentence_similarity(sentences[idx1], sentences[idx2])\n",
    "\n",
    "print(\"Smilarity matrix \\n\", similarity_matrix)"
   ]
  },
  {
   "cell_type": "markdown",
   "id": "01fcfa99-5276-4019-9fa6-eb3aee1902de",
   "metadata": {},
   "source": [
    "## GET THE PAGERANK SCORES"
   ]
  },
  {
   "cell_type": "code",
   "execution_count": 65,
   "id": "6d6e71b5-ef68-4ae1-899d-5571bfea702b",
   "metadata": {},
   "outputs": [
    {
     "name": "stdout",
     "output_type": "stream",
     "text": [
      "PageRank scores: {0: 0.06871321672922064, 1: 0.03588631402612124, 2: 0.09134735481953071, 3: 0.11262097614838441, 4: 0.03588631402612124, 5: 0.11280755468266596, 6: 0.09031534785507, 7: 0.038412867051168746, 8: 0.012345679012345684, 9: 0.15056721896482106, 10: 0.14544972460442235, 11: 0.06723456502895941, 12: 0.038412867051168746}\n"
     ]
    }
   ],
   "source": [
    "import networkx as nx\n",
    "\n",
    "# Create a graph from the similarity matrix using NetworkX\n",
    "sentence_similarity_graph = nx.from_numpy_array(similarity_matrix)\n",
    "\n",
    "# Calculate the PageRank scores for each node (sentence) in the graph\n",
    "scores = nx.pagerank(sentence_similarity_graph)\n",
    "\n",
    "# Print the PageRank scores\n",
    "print(\"PageRank scores:\", scores)"
   ]
  },
  {
   "cell_type": "markdown",
   "id": "992aac78-bb8f-4857-9049-f317ade428ce",
   "metadata": {},
   "source": [
    "## SORT SENTENCES BY PAGERANK"
   ]
  },
  {
   "cell_type": "code",
   "execution_count": 66,
   "id": "0a5d8e04-bce8-4e92-9516-55e996d01674",
   "metadata": {},
   "outputs": [
    {
     "name": "stdout",
     "output_type": "stream",
     "text": [
      "Indexes of top ranked sentences in descending order:\n",
      " [(0.15056721896482106, ['The', 'program', 'is', 'an', 'attempt', 'to', 'ramp', 'up', 'the', 'institutional', 'set-up', 'and', 'build', 'capabilities', 'among', 'the', 'educators', 'to', 'educate', 'the', 'workforce', 'of', 'tomorrow.\"', 'The', 'program', 'aims', 'to', 'build', 'up', 'the', 'cognitive', 'skills', 'and', 'in-depth', 'understanding', 'of', 'developing', 'intelligent', 'cloud', 'connected', 'solutions', 'for', 'applications', 'across', 'industry']), (0.14544972460442235, ['Earlier', 'in', 'April', 'this', 'year,', 'the', 'company', 'announced', 'Microsoft', 'Professional', 'Program', 'In', 'AI', 'as', 'a', 'learning', 'track', 'open', 'to', 'the', 'public']), (0.11280755468266596, ['As', 'part', 'of', 'the', 'program,', 'the', 'Redmond', 'giant', 'which', 'wants', 'to', 'expand', 'its', 'reach', 'and', 'is', 'planning', 'to', 'build', 'a', 'strong', 'developer', 'ecosystem', 'in', 'India', 'with', 'the', 'program', 'will', 'set', 'up', 'the', 'core', 'AI', 'infrastructure', 'and', 'IoT', 'Hub', 'for', 'the', 'selected', 'campuses']), (0.11262097614838441, ['The', 'company', 'will', 'provide', 'AI', 'development', 'tools', 'and', 'Azure', 'AI', 'services', 'such', 'as', 'Microsoft', 'Cognitive', 'Services,', 'Bot', 'Services', 'and', 'Azure', 'Machine', 'Learning.According', 'to', 'Manish', 'Prakash,', 'Country', 'General', 'Manager-PS,', 'Health', 'and', 'Education,', 'Microsoft', 'India,', 'said,', '\"With', 'AI', 'being', 'the', 'defining', 'technology', 'of', 'our', 'time,', 'it', 'is', 'transIn', 'an', 'attempt', 'to', 'build', 'an', 'AI-ready', 'workforce,', 'Microsoft', 'announced', 'Intelligent', 'Cloud', 'Hub', 'which', 'has', 'been', 'launched', 'to', 'empower', 'the', 'next', 'generation', 'of', 'students', 'with', 'AI-ready', 'skills']), (0.09134735481953071, ['As', 'part', 'of', 'the', 'program,', 'the', 'Redmond', 'giant', 'which', 'wants', 'to', 'expand', 'its', 'reach', 'and', 'is', 'planning', 'to', 'build', 'a', 'strong', 'developer', 'ecosystem', 'in', 'India', 'with', 'the', 'program', 'will', 'set', 'up', 'the', 'core', 'AI', 'infrastructure', 'and', 'IoT', 'Hub', 'for', 'the', 'selected', 'campuses']), (0.09031534785507, ['The', 'company', 'will', 'provide', 'AI', 'development', 'tools', 'and', 'Azure', 'AI', 'services', 'such', 'as', 'Microsoft', 'Cognitive', 'Services,', 'Bot', 'Services', 'and', 'Azure', 'Machine', 'Learning.According', 'to', 'Manish', 'Prakash,', 'Country', 'General', 'Manager-PS,', 'Health', 'and', 'Education,', 'Microsoft', 'India,', 'said,', '\"With', 'AI', 'being', 'the', 'defining', 'technology', 'of', 'our', 'time,', 'it', 'is', 'transforming', 'lives', 'and', 'industry', 'and', 'the', 'jobs', 'of', 'tomorrow', 'will', 'require', 'a', 'different', 'skillset']), (0.06871321672922064, ['In', 'an', 'attempt', 'to', 'build', 'an', 'AI-ready', 'workforce,', 'Microsoft', 'announced', 'Intelligent', 'Cloud', 'Hub', 'which', 'has', 'been', 'launched', 'to', 'empower', 'the', 'next', 'generation', 'of', 'students', 'with', 'AI-ready', 'skills']), (0.06723456502895941, ['The', 'program', 'was', 'developed', 'to', 'provide', 'job', 'ready', 'skills', 'to', 'programmers', 'who', 'wanted', 'to', 'hone', 'their', 'skills', 'in', 'AI', 'and', 'data', 'science', 'with', 'a', 'series', 'of', 'online', 'courses', 'which', 'featured', 'hands-on', 'labs', 'and', 'expert', 'instructors', 'as', 'well']), (0.038412867051168746, ['This', 'will', 'require', 'more', 'collaborations', 'and', 'training', 'and', 'working', 'with', 'AI']), (0.038412867051168746, ['This', 'program', 'also', 'included', 'developer-focused', 'AI', 'school', 'that', 'provided', 'a', 'bunch', 'of', 'assets', 'to', 'help', 'build', 'AI', 'skills.']), (0.03588631402612124, ['Envisioned', 'as', 'a', 'three-year', 'collaborative', 'program,', 'Intelligent', 'Cloud', 'Hub', 'will', 'support', 'around', '100', 'institutions', 'with', 'AI', 'infrastructure,', 'course', 'content', 'and', 'curriculum,', 'developer', 'support,', 'development', 'tools', 'and', 'give', 'students', 'access', 'to', 'cloud', 'and', 'AI', 'services']), (0.03588631402612124, ['Envisioned', 'as', 'a', 'three-year', 'collaborative', 'program,', 'Intelligent', 'Cloud', 'Hub', 'will', 'support', 'around', '100', 'institutions', 'with', 'AI', 'infrastructure,', 'course', 'content', 'and', 'curriculum,', 'developer', 'support,', 'development', 'tools', 'and', 'give', 'students', 'access', 'to', 'cloud', 'and', 'AI', 'services']), (0.012345679012345684, ['Thatâ€™s', 'why', 'it', 'has', 'become', 'more', 'critical', 'than', 'ever', 'for', 'educational', 'institutions', 'to', 'integrate', 'new', 'cloud', 'and', 'AI', 'technologies'])]\n"
     ]
    }
   ],
   "source": [
    "# Sort the sentences based on their PageRank scores in descending order\n",
    "ranked_sentence = sorted(((scores[i], s) for i, s in enumerate(sentences)), reverse=True)\n",
    "\n",
    "# Print the indexes of top-ranked sentences in the order of their importance\n",
    "print(\"Indexes of top ranked sentences in descending order:\\n\", ranked_sentence)"
   ]
  },
  {
   "cell_type": "markdown",
   "id": "717fce49-ee82-4816-ac33-0a6261b1c042",
   "metadata": {},
   "source": [
    "## PICK THE TOP \"N\" SENTENCES "
   ]
  },
  {
   "cell_type": "code",
   "execution_count": 67,
   "id": "8379788e-fbbf-48db-a654-c656be4aa960",
   "metadata": {},
   "outputs": [
    {
     "name": "stdin",
     "output_type": "stream",
     "text": [
      "How many sentences do you want in the summary?  7\n"
     ]
    }
   ],
   "source": [
    "# Step 5 - How many sentences to pick\n",
    "\n",
    "# Prompt the user to input the number of sentences they want in the summary\n",
    "n = int(input(\"How many sentences do you want in the summary? \"))\n",
    "\n",
    "# Initialize an empty list to store the summarized sentences\n",
    "summarize_text = []\n",
    "\n",
    "# Iterate through the top n ranked sentences and join them into a single string\n",
    "for i in range(n):\n",
    "    # Append the joined sentence to the summarize_text list\n",
    "    summarize_text.append(\" \".join(ranked_sentence[i][1]))"
   ]
  },
  {
   "cell_type": "markdown",
   "id": "4417c0e2-5f1b-49a1-a4c2-8bfdc5b58d94",
   "metadata": {},
   "source": [
    "## PRINTING THE SUMMARY"
   ]
  },
  {
   "cell_type": "code",
   "execution_count": 68,
   "id": "91276d52-8231-4d91-80c5-0d677c87e255",
   "metadata": {},
   "outputs": [
    {
     "name": "stdout",
     "output_type": "stream",
     "text": [
      "Summarized Text:\n",
      " The program is an attempt to ramp up the institutional set-up and build capabilities among the educators to educate the workforce of tomorrow.\" The program aims to build up the cognitive skills and in-depth understanding of developing intelligent cloud connected solutions for applications across industry. Earlier in April this year, the company announced Microsoft Professional Program In AI as a learning track open to the public. As part of the program, the Redmond giant which wants to expand its reach and is planning to build a strong developer ecosystem in India with the program will set up the core AI infrastructure and IoT Hub for the selected campuses. The company will provide AI development tools and Azure AI services such as Microsoft Cognitive Services, Bot Services and Azure Machine Learning.According to Manish Prakash, Country General Manager-PS, Health and Education, Microsoft India, said, \"With AI being the defining technology of our time, it is transIn an attempt to build an AI-ready workforce, Microsoft announced Intelligent Cloud Hub which has been launched to empower the next generation of students with AI-ready skills. As part of the program, the Redmond giant which wants to expand its reach and is planning to build a strong developer ecosystem in India with the program will set up the core AI infrastructure and IoT Hub for the selected campuses. The company will provide AI development tools and Azure AI services such as Microsoft Cognitive Services, Bot Services and Azure Machine Learning.According to Manish Prakash, Country General Manager-PS, Health and Education, Microsoft India, said, \"With AI being the defining technology of our time, it is transforming lives and industry and the jobs of tomorrow will require a different skillset. In an attempt to build an AI-ready workforce, Microsoft announced Intelligent Cloud Hub which has been launched to empower the next generation of students with AI-ready skills\n"
     ]
    }
   ],
   "source": [
    "# Step 6 - Output the summarized text\n",
    "\n",
    "# Print the summarized text by joining the sentences with a period and a space\n",
    "print(\"Summarized Text:\\n\", \". \".join(summarize_text))"
   ]
  },
  {
   "cell_type": "code",
   "execution_count": null,
   "id": "87e74ebe-73d3-43f8-957a-53a823b099ea",
   "metadata": {},
   "outputs": [],
   "source": []
  }
 ],
 "metadata": {
  "kernelspec": {
   "display_name": "Python 3 (ipykernel)",
   "language": "python",
   "name": "python3"
  },
  "language_info": {
   "codemirror_mode": {
    "name": "ipython",
    "version": 3
   },
   "file_extension": ".py",
   "mimetype": "text/x-python",
   "name": "python",
   "nbconvert_exporter": "python",
   "pygments_lexer": "ipython3",
   "version": "3.12.1"
  }
 },
 "nbformat": 4,
 "nbformat_minor": 5
}
